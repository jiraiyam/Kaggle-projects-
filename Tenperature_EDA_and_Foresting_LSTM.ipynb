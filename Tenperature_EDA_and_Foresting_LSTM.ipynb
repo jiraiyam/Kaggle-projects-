{
  "metadata": {
    "kernelspec": {
      "language": "python",
      "display_name": "Python 3",
      "name": "python3"
    },
    "language_info": {
      "name": "python",
      "version": "3.10.14",
      "mimetype": "text/x-python",
      "codemirror_mode": {
        "name": "ipython",
        "version": 3
      },
      "pygments_lexer": "ipython3",
      "nbconvert_exporter": "python",
      "file_extension": ".py"
    },
    "kaggle": {
      "accelerator": "none",
      "dataSources": [
        {
          "sourceId": 2379377,
          "sourceType": "datasetVersion",
          "datasetId": 1436528
        }
      ],
      "dockerImageVersionId": 30761,
      "isInternetEnabled": true,
      "language": "python",
      "sourceType": "notebook",
      "isGpuEnabled": false
    },
    "colab": {
      "name": "Tenperature EDA and Foresting LSTM ",
      "provenance": [],
      "include_colab_link": true
    }
  },
  "nbformat_minor": 0,
  "nbformat": 4,
  "cells": [
    {
      "cell_type": "markdown",
      "metadata": {
        "id": "view-in-github",
        "colab_type": "text"
      },
      "source": [
        "<a href=\"https://colab.research.google.com/github/jiraiyam/Kaggle-projects-/blob/main/Tenperature_EDA_and_Foresting_LSTM.ipynb\" target=\"_parent\"><img src=\"https://colab.research.google.com/assets/colab-badge.svg\" alt=\"Open In Colab\"/></a>"
      ]
    },
    {
      "source": [
        "\n",
        "# IMPORTANT: RUN THIS CELL IN ORDER TO IMPORT YOUR KAGGLE DATA SOURCES\n",
        "# TO THE CORRECT LOCATION (/kaggle/input) IN YOUR NOTEBOOK,\n",
        "# THEN FEEL FREE TO DELETE THIS CELL.\n",
        "# NOTE: THIS NOTEBOOK ENVIRONMENT DIFFERS FROM KAGGLE'S PYTHON\n",
        "# ENVIRONMENT SO THERE MAY BE MISSING LIBRARIES USED BY YOUR\n",
        "# NOTEBOOK.\n",
        "\n",
        "import os\n",
        "import sys\n",
        "from tempfile import NamedTemporaryFile\n",
        "from urllib.request import urlopen\n",
        "from urllib.parse import unquote, urlparse\n",
        "from urllib.error import HTTPError\n",
        "from zipfile import ZipFile\n",
        "import tarfile\n",
        "import shutil\n",
        "\n",
        "CHUNK_SIZE = 40960\n",
        "DATA_SOURCE_MAPPING = 'anomliot:https%3A%2F%2Fstorage.googleapis.com%2Fkaggle-data-sets%2F1436528%2F2379377%2Fbundle%2Farchive.zip%3FX-Goog-Algorithm%3DGOOG4-RSA-SHA256%26X-Goog-Credential%3Dgcp-kaggle-com%2540kaggle-161607.iam.gserviceaccount.com%252F20240921%252Fauto%252Fstorage%252Fgoog4_request%26X-Goog-Date%3D20240921T231330Z%26X-Goog-Expires%3D259200%26X-Goog-SignedHeaders%3Dhost%26X-Goog-Signature%3D164a3609c66fa1d87deaf3d6bcd4093f2e46ab7fbb17289d0561556244c61d47ace34a5f262d9a7a35cada98b7065464ff1f1d32bf9aa4c4461df1932cb9ca1cbcbad407c88bad657ce6bba684f8096334acd19e7aa4e1517b53f0ba39a1376c40f344b9fef68fa6d049f5ce59100a94e1097ccf1f387f91f3e0cce1639df92aeaaaf60647d7ff23f604dbedfe28199e1c456490264a0015d50293684b0b77d5ad37f14d33c21f1ae61f55ee6a21bb9f6e3f203ecd0d1e022b5258828c85d7abaf098f6e7deb6ada46bb99ee0b5acd5faeafe71c2a9b25550aef0d38d75f15afeb40ba207af023b44e2dc372d565bc848a78da4012b3e3ed060c38c69c824c8c'\n",
        "\n",
        "KAGGLE_INPUT_PATH='/kaggle/input'\n",
        "KAGGLE_WORKING_PATH='/kaggle/working'\n",
        "KAGGLE_SYMLINK='kaggle'\n",
        "\n",
        "!umount /kaggle/input/ 2> /dev/null\n",
        "shutil.rmtree('/kaggle/input', ignore_errors=True)\n",
        "os.makedirs(KAGGLE_INPUT_PATH, 0o777, exist_ok=True)\n",
        "os.makedirs(KAGGLE_WORKING_PATH, 0o777, exist_ok=True)\n",
        "\n",
        "try:\n",
        "  os.symlink(KAGGLE_INPUT_PATH, os.path.join(\"..\", 'input'), target_is_directory=True)\n",
        "except FileExistsError:\n",
        "  pass\n",
        "try:\n",
        "  os.symlink(KAGGLE_WORKING_PATH, os.path.join(\"..\", 'working'), target_is_directory=True)\n",
        "except FileExistsError:\n",
        "  pass\n",
        "\n",
        "for data_source_mapping in DATA_SOURCE_MAPPING.split(','):\n",
        "    directory, download_url_encoded = data_source_mapping.split(':')\n",
        "    download_url = unquote(download_url_encoded)\n",
        "    filename = urlparse(download_url).path\n",
        "    destination_path = os.path.join(KAGGLE_INPUT_PATH, directory)\n",
        "    try:\n",
        "        with urlopen(download_url) as fileres, NamedTemporaryFile() as tfile:\n",
        "            total_length = fileres.headers['content-length']\n",
        "            print(f'Downloading {directory}, {total_length} bytes compressed')\n",
        "            dl = 0\n",
        "            data = fileres.read(CHUNK_SIZE)\n",
        "            while len(data) > 0:\n",
        "                dl += len(data)\n",
        "                tfile.write(data)\n",
        "                done = int(50 * dl / int(total_length))\n",
        "                sys.stdout.write(f\"\\r[{'=' * done}{' ' * (50-done)}] {dl} bytes downloaded\")\n",
        "                sys.stdout.flush()\n",
        "                data = fileres.read(CHUNK_SIZE)\n",
        "            if filename.endswith('.zip'):\n",
        "              with ZipFile(tfile) as zfile:\n",
        "                zfile.extractall(destination_path)\n",
        "            else:\n",
        "              with tarfile.open(tfile.name) as tarfile:\n",
        "                tarfile.extractall(destination_path)\n",
        "            print(f'\\nDownloaded and uncompressed: {directory}')\n",
        "    except HTTPError as e:\n",
        "        print(f'Failed to load (likely expired) {download_url} to path {destination_path}')\n",
        "        continue\n",
        "    except OSError as e:\n",
        "        print(f'Failed to load {download_url} to path {destination_path}')\n",
        "        continue\n",
        "\n",
        "print('Data source import complete.')\n"
      ],
      "metadata": {
        "id": "s_skTsVP3K6M"
      },
      "cell_type": "code",
      "outputs": [],
      "execution_count": null
    },
    {
      "cell_type": "code",
      "source": [
        "import pandas as pd\n",
        "import numpy as np\n",
        "import matplotlib.pyplot as plt\n",
        "import plotly.express as px\n",
        "from pylab import rcParams\n",
        "import warnings\n",
        "import seaborn as sns\n",
        "rcParams[\"figure.figsize\"]=(30,18)\n",
        "plt.rcParams['figure.dpi'] = 300\n",
        "plt.rcParams['font.family'] = 'Arial'\n",
        "plt.rcParams['font.weight'] = 'bold'\n",
        "plt.rcParams['font.size'] = 15\n",
        "warnings.filterwarnings(\"ignore\")\n",
        "warnings.simplefilter(action='ignore', category=FutureWarning)\n",
        "import os\n",
        "for dirname, _, filenames in os.walk('/kaggle/input'):\n",
        "    for filename in filenames:\n",
        "        print(os.path.join(dirname, filename))"
      ],
      "metadata": {
        "_uuid": "8f2839f25d086af736a60e9eeb907d3b93b6e0e5",
        "_cell_guid": "b1076dfc-b9ad-4769-8c92-a6c4dae69d19",
        "execution": {
          "iopub.status.busy": "2024-09-21T21:37:51.937915Z",
          "iopub.execute_input": "2024-09-21T21:37:51.938759Z",
          "iopub.status.idle": "2024-09-21T21:37:53.515488Z",
          "shell.execute_reply.started": "2024-09-21T21:37:51.938707Z",
          "shell.execute_reply": "2024-09-21T21:37:53.514151Z"
        },
        "trusted": true,
        "id": "2xzXt2qO3K6Q"
      },
      "execution_count": null,
      "outputs": []
    },
    {
      "cell_type": "code",
      "source": [
        "df=pd.read_csv(\"/kaggle/input/anomliot/dataset_final.csv\")\n",
        "df"
      ],
      "metadata": {
        "execution": {
          "iopub.status.busy": "2024-09-21T21:37:53.517666Z",
          "iopub.execute_input": "2024-09-21T21:37:53.518339Z",
          "iopub.status.idle": "2024-09-21T21:37:53.555456Z",
          "shell.execute_reply.started": "2024-09-21T21:37:53.518288Z",
          "shell.execute_reply": "2024-09-21T21:37:53.554283Z"
        },
        "trusted": true,
        "id": "L47YjAeb3K6R"
      },
      "execution_count": null,
      "outputs": []
    },
    {
      "cell_type": "code",
      "source": [
        "df.info()"
      ],
      "metadata": {
        "execution": {
          "iopub.status.busy": "2024-09-21T21:37:53.556849Z",
          "iopub.execute_input": "2024-09-21T21:37:53.557336Z",
          "iopub.status.idle": "2024-09-21T21:37:53.573161Z",
          "shell.execute_reply.started": "2024-09-21T21:37:53.557294Z",
          "shell.execute_reply": "2024-09-21T21:37:53.571879Z"
        },
        "trusted": true,
        "id": "MfSSAlH03K6S"
      },
      "execution_count": null,
      "outputs": []
    },
    {
      "cell_type": "code",
      "source": [
        "df.isnull().sum()"
      ],
      "metadata": {
        "execution": {
          "iopub.status.busy": "2024-09-21T21:37:53.576437Z",
          "iopub.execute_input": "2024-09-21T21:37:53.57727Z",
          "iopub.status.idle": "2024-09-21T21:37:53.588397Z",
          "shell.execute_reply.started": "2024-09-21T21:37:53.577202Z",
          "shell.execute_reply": "2024-09-21T21:37:53.587043Z"
        },
        "trusted": true,
        "id": "V4BEeeVv3K6S"
      },
      "execution_count": null,
      "outputs": []
    },
    {
      "cell_type": "code",
      "source": [
        "df['Time'] = pd.to_datetime(df['Time'], unit='s')"
      ],
      "metadata": {
        "execution": {
          "iopub.status.busy": "2024-09-21T21:37:53.59006Z",
          "iopub.execute_input": "2024-09-21T21:37:53.590456Z",
          "iopub.status.idle": "2024-09-21T21:37:53.599667Z",
          "shell.execute_reply.started": "2024-09-21T21:37:53.590413Z",
          "shell.execute_reply": "2024-09-21T21:37:53.598442Z"
        },
        "trusted": true,
        "id": "feH3fwJH3K6T"
      },
      "execution_count": null,
      "outputs": []
    },
    {
      "cell_type": "code",
      "source": [
        "df.set_index('Time', inplace=True)\n"
      ],
      "metadata": {
        "execution": {
          "iopub.status.busy": "2024-09-21T21:37:53.601833Z",
          "iopub.execute_input": "2024-09-21T21:37:53.602386Z",
          "iopub.status.idle": "2024-09-21T21:37:53.611374Z",
          "shell.execute_reply.started": "2024-09-21T21:37:53.602326Z",
          "shell.execute_reply": "2024-09-21T21:37:53.609894Z"
        },
        "trusted": true,
        "id": "_Ab_OtYS3K6T"
      },
      "execution_count": null,
      "outputs": []
    },
    {
      "cell_type": "code",
      "source": [
        "summary_stats = df.describe()\n",
        "summary_stats"
      ],
      "metadata": {
        "execution": {
          "iopub.status.busy": "2024-09-21T21:37:53.613142Z",
          "iopub.execute_input": "2024-09-21T21:37:53.613583Z",
          "iopub.status.idle": "2024-09-21T21:37:53.648215Z",
          "shell.execute_reply.started": "2024-09-21T21:37:53.613522Z",
          "shell.execute_reply": "2024-09-21T21:37:53.646928Z"
        },
        "trusted": true,
        "id": "cOojyrlN3K6T"
      },
      "execution_count": null,
      "outputs": []
    },
    {
      "cell_type": "code",
      "source": [
        "df"
      ],
      "metadata": {
        "execution": {
          "iopub.status.busy": "2024-09-21T21:37:53.649607Z",
          "iopub.execute_input": "2024-09-21T21:37:53.650009Z",
          "iopub.status.idle": "2024-09-21T21:37:53.668693Z",
          "shell.execute_reply.started": "2024-09-21T21:37:53.649944Z",
          "shell.execute_reply": "2024-09-21T21:37:53.667358Z"
        },
        "trusted": true,
        "id": "dHjJ3hTL3K6U"
      },
      "execution_count": null,
      "outputs": []
    },
    {
      "cell_type": "markdown",
      "source": [
        "# EDA"
      ],
      "metadata": {
        "id": "CKFUrhhA3K6U"
      }
    },
    {
      "cell_type": "code",
      "source": [
        "fig, axes = plt.subplots(nrows=3, ncols=2, figsize=(15, 10))\n",
        "axes = axes.flatten()\n",
        "\n",
        "sns.histplot(df['Temperature'], kde=True, ax=axes[0], color='skyblue')\n",
        "axes[0].set_title('Temperature Distribution')\n",
        "\n",
        "sns.histplot(df['Humidity'], kde=True, ax=axes[1], color='olive')\n",
        "axes[1].set_title('Humidity Distribution')\n",
        "\n",
        "sns.histplot(df['Air Quality'], kde=True, ax=axes[2], color='gold')\n",
        "axes[2].set_title('Air Quality Distribution')\n",
        "\n",
        "sns.histplot(df['Light'], kde=True, ax=axes[3], color='teal')\n",
        "axes[3].set_title('Light Distribution')\n",
        "\n",
        "sns.histplot(df['Loudness'], kde=True, ax=axes[4], color='purple')\n",
        "axes[4].set_title('Loudness Distribution')\n",
        "\n",
        "fig.delaxes(axes[5])\n",
        "\n",
        "plt.tight_layout()\n",
        "plt.show()"
      ],
      "metadata": {
        "execution": {
          "iopub.status.busy": "2024-09-21T21:37:53.671235Z",
          "iopub.execute_input": "2024-09-21T21:37:53.671745Z",
          "iopub.status.idle": "2024-09-21T21:37:57.236995Z",
          "shell.execute_reply.started": "2024-09-21T21:37:53.671687Z",
          "shell.execute_reply": "2024-09-21T21:37:57.235569Z"
        },
        "trusted": true,
        "id": "JsXYqHzp3K6W"
      },
      "execution_count": null,
      "outputs": []
    },
    {
      "cell_type": "code",
      "source": [
        "corr_matrix = df.corr()\n",
        "\n",
        "plt.figure(figsize=(10, 6))\n",
        "sns.heatmap(corr_matrix, annot=True, cmap='coolwarm', linewidths=0.5)\n",
        "plt.title('Correlation Matrix Heatmap')\n",
        "plt.show()\n"
      ],
      "metadata": {
        "execution": {
          "iopub.status.busy": "2024-09-21T21:37:57.242093Z",
          "iopub.execute_input": "2024-09-21T21:37:57.242716Z",
          "iopub.status.idle": "2024-09-21T21:37:58.276914Z",
          "shell.execute_reply.started": "2024-09-21T21:37:57.242647Z",
          "shell.execute_reply": "2024-09-21T21:37:58.275494Z"
        },
        "trusted": true,
        "id": "a0CNaAfL3K6W"
      },
      "execution_count": null,
      "outputs": []
    },
    {
      "cell_type": "code",
      "source": [
        "fig, axes = plt.subplots(nrows=3, ncols=2, figsize=(15, 10))\n",
        "axes = axes.flatten()\n",
        "\n",
        "df['Temperature'].plot(ax=axes[0], color='skyblue')\n",
        "axes[0].set_title('Temperature over Time')\n",
        "\n",
        "df['Humidity'].plot(ax=axes[1], color='olive')\n",
        "axes[1].set_title('Humidity over Time')\n",
        "\n",
        "df['Air Quality'].plot(ax=axes[2], color='gold')\n",
        "axes[2].set_title('Air Quality over Time')\n",
        "\n",
        "df['Light'].plot(ax=axes[3], color='teal')\n",
        "axes[3].set_title('Light over Time')\n",
        "\n",
        "df['Loudness'].plot(ax=axes[4], color='purple')\n",
        "axes[4].set_title('Loudness over Time')\n",
        "\n",
        "fig.delaxes(axes[5])\n",
        "\n",
        "plt.tight_layout()\n",
        "plt.show()"
      ],
      "metadata": {
        "execution": {
          "iopub.status.busy": "2024-09-21T21:37:58.278679Z",
          "iopub.execute_input": "2024-09-21T21:37:58.279167Z",
          "iopub.status.idle": "2024-09-21T21:39:00.350419Z",
          "shell.execute_reply.started": "2024-09-21T21:37:58.279114Z",
          "shell.execute_reply": "2024-09-21T21:39:00.34906Z"
        },
        "trusted": true,
        "id": "svkJ3y823K6X"
      },
      "execution_count": null,
      "outputs": []
    },
    {
      "cell_type": "code",
      "source": [
        "from statsmodels.tsa.seasonal import seasonal_decompose\n",
        "import plotly.express as px\n",
        "import plotly.graph_objects as go\n",
        "import statsmodels.api as sm"
      ],
      "metadata": {
        "execution": {
          "iopub.status.busy": "2024-09-21T21:39:00.352122Z",
          "iopub.execute_input": "2024-09-21T21:39:00.352546Z",
          "iopub.status.idle": "2024-09-21T21:39:00.805656Z",
          "shell.execute_reply.started": "2024-09-21T21:39:00.3525Z",
          "shell.execute_reply": "2024-09-21T21:39:00.804468Z"
        },
        "trusted": true,
        "id": "bpD_3UWj3K6X"
      },
      "execution_count": null,
      "outputs": []
    },
    {
      "cell_type": "code",
      "source": [
        "decompose_temp = seasonal_decompose(df['Temperature'], model='additive', period=60)  # Adjust the period based on your data frequency\n",
        "decompose_humid = seasonal_decompose(df['Humidity'], model='additive', period=60)"
      ],
      "metadata": {
        "execution": {
          "iopub.status.busy": "2024-09-21T21:39:00.807287Z",
          "iopub.execute_input": "2024-09-21T21:39:00.808216Z",
          "iopub.status.idle": "2024-09-21T21:39:00.823761Z",
          "shell.execute_reply.started": "2024-09-21T21:39:00.808163Z",
          "shell.execute_reply": "2024-09-21T21:39:00.821977Z"
        },
        "trusted": true,
        "id": "uPcDWiKu3K6Y"
      },
      "execution_count": null,
      "outputs": []
    },
    {
      "cell_type": "code",
      "source": [
        "decompose_temp.plot()\n",
        "plt.suptitle('\\n Seasonal Decomposition of Temperature', fontsize=16)\n",
        "plt.show()"
      ],
      "metadata": {
        "execution": {
          "iopub.status.busy": "2024-09-21T21:39:00.825918Z",
          "iopub.execute_input": "2024-09-21T21:39:00.826386Z",
          "iopub.status.idle": "2024-09-21T21:39:07.182581Z",
          "shell.execute_reply.started": "2024-09-21T21:39:00.826339Z",
          "shell.execute_reply": "2024-09-21T21:39:07.180718Z"
        },
        "trusted": true,
        "id": "hpSO9Tum3K6Y"
      },
      "execution_count": null,
      "outputs": []
    },
    {
      "cell_type": "code",
      "source": [
        "decompose_humid.plot()\n",
        "plt.suptitle('\\n Seasonal Decomposition of Humidity', fontsize=16)\n",
        "plt.show()\n"
      ],
      "metadata": {
        "execution": {
          "iopub.status.busy": "2024-09-21T21:39:07.184476Z",
          "iopub.execute_input": "2024-09-21T21:39:07.184958Z",
          "iopub.status.idle": "2024-09-21T21:39:13.48755Z",
          "shell.execute_reply.started": "2024-09-21T21:39:07.184896Z",
          "shell.execute_reply": "2024-09-21T21:39:13.486086Z"
        },
        "trusted": true,
        "id": "QaIur85N3K6Y"
      },
      "execution_count": null,
      "outputs": []
    },
    {
      "cell_type": "code",
      "source": [
        "from scipy import stats\n",
        "numerical_columns = ['Temperature', 'Humidity', 'Air Quality', 'Light', 'Loudness']\n",
        "\n",
        "plt.figure(figsize=(15, 8))\n",
        "for i, col in enumerate(numerical_columns, 1):\n",
        "    plt.subplot(2, 3, i)\n",
        "    sns.boxplot(data=df[col])\n",
        "    plt.title(f'Boxplot of {col}')\n",
        "plt.tight_layout()\n",
        "plt.show()"
      ],
      "metadata": {
        "execution": {
          "iopub.status.busy": "2024-09-21T21:39:13.48921Z",
          "iopub.execute_input": "2024-09-21T21:39:13.489653Z",
          "iopub.status.idle": "2024-09-21T21:39:15.264357Z",
          "shell.execute_reply.started": "2024-09-21T21:39:13.489605Z",
          "shell.execute_reply": "2024-09-21T21:39:15.262967Z"
        },
        "trusted": true,
        "id": "Q7SD2lM_3K6Z"
      },
      "execution_count": null,
      "outputs": []
    },
    {
      "cell_type": "code",
      "source": [
        "outliers = {}\n",
        "threshold = 3  # Z-score threshold (greater than 3 means potential outlier)\n",
        "\n",
        "for col in numerical_columns:\n",
        "    z_scores = np.abs(stats.zscore(df[col]))\n",
        "    outliers[col] = np.where(z_scores > threshold)[0]"
      ],
      "metadata": {
        "execution": {
          "iopub.status.busy": "2024-09-21T21:39:15.26624Z",
          "iopub.execute_input": "2024-09-21T21:39:15.266815Z",
          "iopub.status.idle": "2024-09-21T21:39:15.28663Z",
          "shell.execute_reply.started": "2024-09-21T21:39:15.266723Z",
          "shell.execute_reply": "2024-09-21T21:39:15.285412Z"
        },
        "trusted": true,
        "id": "3RRexz423K6Z"
      },
      "execution_count": null,
      "outputs": []
    },
    {
      "cell_type": "code",
      "source": [
        "for col, outlier_indices in outliers.items():\n",
        "    print(f'Number of outliers in {col}: {len(outlier_indices)}')"
      ],
      "metadata": {
        "execution": {
          "iopub.status.busy": "2024-09-21T21:39:15.2887Z",
          "iopub.execute_input": "2024-09-21T21:39:15.289648Z",
          "iopub.status.idle": "2024-09-21T21:39:15.296641Z",
          "shell.execute_reply.started": "2024-09-21T21:39:15.289583Z",
          "shell.execute_reply": "2024-09-21T21:39:15.295251Z"
        },
        "trusted": true,
        "id": "9e_iMJet3K6Z"
      },
      "execution_count": null,
      "outputs": []
    },
    {
      "cell_type": "code",
      "source": [
        "missing_values = df.isnull().sum()\n",
        "print(\"\\nMissing Values in Each Column:\")\n",
        "print(missing_values)\n",
        "\n",
        "# 4. Check Data Types and Convert Time to Datetime if Necessary\n",
        "print(\"\\nData Types of Each Column:\")\n",
        "print(df.dtypes)"
      ],
      "metadata": {
        "execution": {
          "iopub.status.busy": "2024-09-21T21:39:15.298636Z",
          "iopub.execute_input": "2024-09-21T21:39:15.299554Z",
          "iopub.status.idle": "2024-09-21T21:39:15.311748Z",
          "shell.execute_reply.started": "2024-09-21T21:39:15.299497Z",
          "shell.execute_reply": "2024-09-21T21:39:15.310257Z"
        },
        "trusted": true,
        "id": "uQa7S2Ir3K6a"
      },
      "execution_count": null,
      "outputs": []
    },
    {
      "cell_type": "code",
      "source": [
        "def cap_outliers(df, column, threshold=3):\n",
        "    z_scores = stats.zscore(df[column])\n",
        "    capped_df = df.copy()\n",
        "    capped_df[column] = np.where(np.abs(z_scores) > threshold, np.sign(z_scores) * threshold, df[column])\n",
        "    return capped_df\n",
        "\n",
        "for col in numerical_columns:\n",
        "    df = cap_outliers(df, col)\n"
      ],
      "metadata": {
        "execution": {
          "iopub.status.busy": "2024-09-21T21:39:33.642219Z",
          "iopub.execute_input": "2024-09-21T21:39:33.642696Z",
          "iopub.status.idle": "2024-09-21T21:39:33.666438Z",
          "shell.execute_reply.started": "2024-09-21T21:39:33.642648Z",
          "shell.execute_reply": "2024-09-21T21:39:33.665224Z"
        },
        "trusted": true,
        "id": "_rqZULiN3K6a"
      },
      "execution_count": null,
      "outputs": []
    },
    {
      "cell_type": "code",
      "source": [
        "sns.pairplot(df)\n",
        "plt.suptitle(\"Pairplot of Variables\", y=1.02)\n",
        "plt.show()"
      ],
      "metadata": {
        "execution": {
          "iopub.status.busy": "2024-09-21T21:39:44.705078Z",
          "iopub.execute_input": "2024-09-21T21:39:44.705582Z",
          "iopub.status.idle": "2024-09-21T21:39:56.928752Z",
          "shell.execute_reply.started": "2024-09-21T21:39:44.705533Z",
          "shell.execute_reply": "2024-09-21T21:39:56.92752Z"
        },
        "trusted": true,
        "id": "1QKzecOL3K6a"
      },
      "execution_count": null,
      "outputs": []
    },
    {
      "cell_type": "code",
      "source": [
        "fig, axes = plt.subplots(2, 2, figsize=(15, 10))\n",
        "axes = axes.flatten()\n",
        "\n",
        "sns.kdeplot(df['Temperature'], ax=axes[0], color='blue', fill=True)\n",
        "axes[0].set_title('Temperature KDE')\n",
        "\n",
        "sns.kdeplot(df['Humidity'], ax=axes[1], color='green', fill=True)\n",
        "axes[1].set_title('Humidity KDE')\n",
        "\n",
        "sns.kdeplot(df['Light'], ax=axes[2], color='purple', fill=True)\n",
        "axes[2].set_title('Light KDE')\n",
        "\n",
        "sns.kdeplot(df['Loudness'], ax=axes[3], color='red', fill=True)\n",
        "axes[3].set_title('Loudness KDE')\n",
        "\n",
        "plt.tight_layout()\n",
        "plt.show()"
      ],
      "metadata": {
        "execution": {
          "iopub.status.busy": "2024-09-21T21:43:26.775292Z",
          "iopub.execute_input": "2024-09-21T21:43:26.775718Z",
          "iopub.status.idle": "2024-09-21T21:43:29.429762Z",
          "shell.execute_reply.started": "2024-09-21T21:43:26.775678Z",
          "shell.execute_reply": "2024-09-21T21:43:29.428304Z"
        },
        "trusted": true,
        "id": "7vddbm7v3K6a"
      },
      "execution_count": null,
      "outputs": []
    },
    {
      "cell_type": "code",
      "source": [
        "# Violin Plot for distribution of each variable\n",
        "fig, axes = plt.subplots(3, 2, figsize=(15, 10))\n",
        "axes = axes.flatten()\n",
        "\n",
        "sns.violinplot(y='Temperature', data=df, ax=axes[0], color='skyblue')\n",
        "axes[0].set_title('Temperature Violin Plot')\n",
        "\n",
        "sns.violinplot(y='Humidity', data=df, ax=axes[1], color='green')\n",
        "axes[1].set_title('Humidity Violin Plot')\n",
        "\n",
        "sns.violinplot(y='Air Quality', data=df, ax=axes[2], color='gold')\n",
        "axes[2].set_title('Air Quality Violin Plot')\n",
        "\n",
        "sns.violinplot(y='Light', data=df, ax=axes[3], color='purple')\n",
        "axes[3].set_title('Light Violin Plot')\n",
        "\n",
        "sns.violinplot(y='Loudness', data=df, ax=axes[4], color='red')\n",
        "axes[4].set_title('Loudness Violin Plot')\n",
        "\n",
        "# Remove empty axis\n",
        "fig.delaxes(axes[5])\n",
        "\n",
        "plt.tight_layout()\n",
        "plt.show()"
      ],
      "metadata": {
        "execution": {
          "iopub.status.busy": "2024-09-21T21:41:41.989488Z",
          "iopub.execute_input": "2024-09-21T21:41:41.989946Z",
          "iopub.status.idle": "2024-09-21T21:41:44.253148Z",
          "shell.execute_reply.started": "2024-09-21T21:41:41.989896Z",
          "shell.execute_reply": "2024-09-21T21:41:44.251748Z"
        },
        "trusted": true,
        "id": "-mJlWP3o3K6a"
      },
      "execution_count": null,
      "outputs": []
    },
    {
      "cell_type": "code",
      "source": [
        "df['Temperature_Mean_30D'] = df['Temperature'].rolling(window=30).mean()\n",
        "df['Temperature_Std_30D'] = df['Temperature'].rolling(window=30).std()\n",
        "plt.figure(figsize=(10, 6))\n",
        "df['Temperature'].plot(label='Temperature', color='skyblue')\n",
        "df['Temperature_Mean_30D'].plot(label='30-Day Rolling Mean', color='green')\n",
        "df['Temperature_Std_30D'].plot(label='30-Day Rolling Std', color='red')\n",
        "plt.title('Temperature with 30-Day Rolling Mean and Standard Deviation')\n",
        "plt.legend( bbox_to_anchor=(1, 1), loc='upper left')\n",
        "plt.show()"
      ],
      "metadata": {
        "execution": {
          "iopub.status.busy": "2024-09-21T21:45:55.891584Z",
          "iopub.execute_input": "2024-09-21T21:45:55.892744Z",
          "iopub.status.idle": "2024-09-21T21:46:08.836834Z",
          "shell.execute_reply.started": "2024-09-21T21:45:55.892687Z",
          "shell.execute_reply": "2024-09-21T21:46:08.834865Z"
        },
        "trusted": true,
        "id": "62VEWZ3N3K6a"
      },
      "execution_count": null,
      "outputs": []
    },
    {
      "cell_type": "code",
      "source": [
        "from mpl_toolkits.mplot3d import Axes3D\n"
      ],
      "metadata": {
        "execution": {
          "iopub.status.busy": "2024-09-21T21:46:08.839354Z",
          "iopub.execute_input": "2024-09-21T21:46:08.839818Z",
          "iopub.status.idle": "2024-09-21T21:46:08.845589Z",
          "shell.execute_reply.started": "2024-09-21T21:46:08.839768Z",
          "shell.execute_reply": "2024-09-21T21:46:08.84424Z"
        },
        "trusted": true,
        "id": "ln8ztNRz3K6b"
      },
      "execution_count": null,
      "outputs": []
    },
    {
      "cell_type": "code",
      "source": [
        "sns.pairplot(df, kind='reg', diag_kind='kde', corner=True)\n",
        "plt.suptitle(\"Pairplot with Regression Lines\", y=1.02)\n",
        "plt.show()\n"
      ],
      "metadata": {
        "execution": {
          "iopub.status.busy": "2024-09-21T21:46:45.155366Z",
          "iopub.execute_input": "2024-09-21T21:46:45.155875Z",
          "iopub.status.idle": "2024-09-21T21:47:08.001961Z",
          "shell.execute_reply.started": "2024-09-21T21:46:45.155824Z",
          "shell.execute_reply": "2024-09-21T21:47:08.0006Z"
        },
        "trusted": true,
        "id": "f2-adJZx3K6b"
      },
      "execution_count": null,
      "outputs": []
    },
    {
      "cell_type": "code",
      "source": [
        "g = sns.FacetGrid(df, col=\"Light\", col_wrap=3)\n",
        "g.map(sns.scatterplot, \"Temperature\", \"Humidity\")\n",
        "g.add_legend()\n",
        "plt.suptitle(\"FacetGrid of Temperature vs Humidity, Grouped by Light Levels\", y=1.02)\n",
        "plt.show()\n"
      ],
      "metadata": {
        "execution": {
          "iopub.status.busy": "2024-09-21T21:47:15.518304Z",
          "iopub.execute_input": "2024-09-21T21:47:15.518789Z",
          "iopub.status.idle": "2024-09-21T21:47:31.564593Z",
          "shell.execute_reply.started": "2024-09-21T21:47:15.518742Z",
          "shell.execute_reply": "2024-09-21T21:47:31.563108Z"
        },
        "trusted": true,
        "id": "1d1-Hvgd3K6b"
      },
      "execution_count": null,
      "outputs": []
    },
    {
      "cell_type": "code",
      "source": [
        "fig = plt.figure(figsize=(8, 6))\n",
        "ax = fig.add_subplot(111, projection='3d')\n",
        "ax.scatter(df['Temperature'], df['Humidity'], df['Loudness'], c='b', marker='o')\n",
        "ax.set_xlabel('Temperature')\n",
        "ax.set_ylabel('Humidity')\n",
        "ax.set_zlabel('Loudness')\n",
        "plt.title('3D Scatter Plot of Temperature, Humidity, and Loudness')\n",
        "plt.show()"
      ],
      "metadata": {
        "execution": {
          "iopub.status.busy": "2024-09-21T21:47:31.566891Z",
          "iopub.execute_input": "2024-09-21T21:47:31.567435Z",
          "iopub.status.idle": "2024-09-21T21:47:32.433288Z",
          "shell.execute_reply.started": "2024-09-21T21:47:31.567379Z",
          "shell.execute_reply": "2024-09-21T21:47:32.431786Z"
        },
        "trusted": true,
        "id": "6Js-Go8U3K6b"
      },
      "execution_count": null,
      "outputs": []
    },
    {
      "cell_type": "code",
      "source": [
        "plt.figure(figsize=(12, 8))\n",
        "for i, column in enumerate(['Temperature', 'Humidity', 'Light', 'Loudness']):\n",
        "    sns.kdeplot(df[column], fill=True, label=column, alpha=0.7)\n",
        "plt.legend(loc='upper right')\n",
        "plt.title('Ridge Plot for Temperature, Humidity, Light, and Loudness', fontsize=16)\n",
        "plt.show()"
      ],
      "metadata": {
        "execution": {
          "iopub.status.busy": "2024-09-21T21:48:20.223113Z",
          "iopub.execute_input": "2024-09-21T21:48:20.224388Z",
          "iopub.status.idle": "2024-09-21T21:48:21.567395Z",
          "shell.execute_reply.started": "2024-09-21T21:48:20.224333Z",
          "shell.execute_reply": "2024-09-21T21:48:21.566026Z"
        },
        "trusted": true,
        "id": "tqYn5Pii3K6b"
      },
      "execution_count": null,
      "outputs": []
    },
    {
      "cell_type": "code",
      "source": [
        "plt.figure(figsize=(8, 6))\n",
        "plt.hexbin(df['Temperature'], df['Humidity'], gridsize=30, cmap='Blues')\n",
        "cb = plt.colorbar(label='Count in bin')\n",
        "plt.title('Hexbin Plot of Temperature vs Humidity')\n",
        "plt.xlabel('Temperature')\n",
        "plt.ylabel('Humidity')\n",
        "plt.show()"
      ],
      "metadata": {
        "execution": {
          "iopub.status.busy": "2024-09-21T21:48:21.569527Z",
          "iopub.execute_input": "2024-09-21T21:48:21.570073Z",
          "iopub.status.idle": "2024-09-21T21:48:22.364681Z",
          "shell.execute_reply.started": "2024-09-21T21:48:21.570014Z",
          "shell.execute_reply": "2024-09-21T21:48:22.363394Z"
        },
        "trusted": true,
        "id": "DTan8ENC3K6c"
      },
      "execution_count": null,
      "outputs": []
    },
    {
      "cell_type": "code",
      "source": [
        "features = ['Temperature', 'Humidity', 'Air Quality', 'Light', 'Loudness']\n",
        "\n",
        "n = len(features)\n",
        "fig, axes = plt.subplots(n, n, figsize=(20, 20))\n",
        "\n",
        "for i in range(n):\n",
        "    for j in range(n):\n",
        "        if i != j:\n",
        "            sns.regplot(x=features[i], y=features[j], data=df, ax=axes[i, j], color='blue')\n",
        "            axes[i, j].set_title(f'{features[i]} vs {features[j]}')\n",
        "        else:\n",
        "            sns.kdeplot(df[features[i]], ax=axes[i, j], fill=True)\n",
        "            axes[i, j].set_title(f'{features[i]} Distribution')\n",
        "\n",
        "plt.tight_layout()\n",
        "plt.show()"
      ],
      "metadata": {
        "execution": {
          "iopub.status.busy": "2024-09-21T21:48:26.607965Z",
          "iopub.execute_input": "2024-09-21T21:48:26.608462Z",
          "iopub.status.idle": "2024-09-21T21:48:47.453298Z",
          "shell.execute_reply.started": "2024-09-21T21:48:26.608415Z",
          "shell.execute_reply": "2024-09-21T21:48:47.451752Z"
        },
        "trusted": true,
        "id": "PniYRjrq3K6c"
      },
      "execution_count": null,
      "outputs": []
    },
    {
      "cell_type": "code",
      "source": [
        "plt.figure(figsize=(8, 6))\n",
        "plt.hexbin(df['Temperature'], df['Humidity'], gridsize=30, mincnt=5, cmap='Blues')\n",
        "cb = plt.colorbar(label='Count in bin')\n",
        "plt.title('Hexbin Plot of Temperature vs Humidity (Min Count = 5)', fontsize=14, weight='bold')\n",
        "plt.xlabel('Temperature', fontsize=12, weight='bold')\n",
        "plt.ylabel('Humidity', fontsize=12, weight='bold')\n",
        "plt.show()\n",
        "\n"
      ],
      "metadata": {
        "execution": {
          "iopub.status.busy": "2024-09-21T21:49:35.711446Z",
          "iopub.execute_input": "2024-09-21T21:49:35.711955Z",
          "iopub.status.idle": "2024-09-21T21:49:36.465627Z",
          "shell.execute_reply.started": "2024-09-21T21:49:35.711906Z",
          "shell.execute_reply": "2024-09-21T21:49:36.464141Z"
        },
        "trusted": true,
        "id": "0C9nZKiL3K6c"
      },
      "execution_count": null,
      "outputs": []
    },
    {
      "cell_type": "code",
      "source": [
        "plt.figure(figsize=(8, 6))\n",
        "plt.hexbin(df['Temperature'], df['Humidity'], gridsize=30, cmap='Blues', alpha=0.5)\n",
        "plt.scatter(df['Temperature'], df['Humidity'], color='red', alpha=0.1, s=10)\n",
        "cb = plt.colorbar(label='Count in bin')\n",
        "plt.title('Hexbin Plot of Temperature vs Humidity with Overlay Scatter', fontsize=14, weight='bold')\n",
        "plt.xlabel('Temperature', fontsize=12, weight='bold')\n",
        "plt.ylabel('Humidity', fontsize=12, weight='bold')\n",
        "plt.show()\n"
      ],
      "metadata": {
        "execution": {
          "iopub.status.busy": "2024-09-21T21:49:48.474434Z",
          "iopub.execute_input": "2024-09-21T21:49:48.475044Z",
          "iopub.status.idle": "2024-09-21T21:49:49.386086Z",
          "shell.execute_reply.started": "2024-09-21T21:49:48.474961Z",
          "shell.execute_reply": "2024-09-21T21:49:49.384799Z"
        },
        "trusted": true,
        "id": "DrydrYaf3K6c"
      },
      "execution_count": null,
      "outputs": []
    },
    {
      "cell_type": "code",
      "source": [
        "g = sns.FacetGrid(df, col='Air Quality', col_wrap=3, height=4)\n",
        "g.map(plt.hexbin, 'Temperature', 'Humidity', gridsize=30, cmap='Blues', mincnt=5)\n",
        "g.add_legend(title='Air Quality')\n",
        "plt.subplots_adjust(top=0.9)\n",
        "plt.show()\n"
      ],
      "metadata": {
        "execution": {
          "iopub.status.busy": "2024-09-21T21:50:13.644494Z",
          "iopub.execute_input": "2024-09-21T21:50:13.645726Z",
          "iopub.status.idle": "2024-09-21T21:50:14.545456Z",
          "shell.execute_reply.started": "2024-09-21T21:50:13.64567Z",
          "shell.execute_reply": "2024-09-21T21:50:14.544189Z"
        },
        "trusted": true,
        "id": "JdEV1rB93K6c"
      },
      "execution_count": null,
      "outputs": []
    },
    {
      "cell_type": "code",
      "source": [
        "sns.kdeplot(x='Temperature', y='Humidity', data=df, fill=True, cmap='Blues', thresh=0, levels=20)\n",
        "plt.title('Contour Plot of Temperature vs Humidity', fontsize=14, weight='bold')\n",
        "plt.xlabel('Temperature', fontsize=12, weight='bold')\n",
        "plt.ylabel('Humidity', fontsize=12, weight='bold')\n",
        "plt.show()"
      ],
      "metadata": {
        "execution": {
          "iopub.status.busy": "2024-09-21T21:51:21.242905Z",
          "iopub.execute_input": "2024-09-21T21:51:21.243688Z",
          "iopub.status.idle": "2024-09-21T21:51:28.649962Z",
          "shell.execute_reply.started": "2024-09-21T21:51:21.243608Z",
          "shell.execute_reply": "2024-09-21T21:51:28.648358Z"
        },
        "trusted": true,
        "id": "U5sYpw923K6c"
      },
      "execution_count": null,
      "outputs": []
    },
    {
      "cell_type": "code",
      "source": [
        "plt.figure(figsize=(8, 6))\n",
        "sns.kdeplot(x='Temperature', y='Humidity', data=df, fill=True, cmap='Blues', thresh=0)\n",
        "plt.title('2D Density Plot of Temperature vs Humidity', fontsize=14, weight='bold')\n",
        "plt.xlabel('Temperature', fontsize=12, weight='bold')\n",
        "plt.ylabel('Humidity', fontsize=12, weight='bold')\n",
        "plt.show()"
      ],
      "metadata": {
        "execution": {
          "iopub.status.busy": "2024-09-21T21:51:28.681083Z",
          "iopub.execute_input": "2024-09-21T21:51:28.681611Z",
          "iopub.status.idle": "2024-09-21T21:51:33.586882Z",
          "shell.execute_reply.started": "2024-09-21T21:51:28.68156Z",
          "shell.execute_reply": "2024-09-21T21:51:33.5855Z"
        },
        "trusted": true,
        "id": "hKJzNRt23K6d"
      },
      "execution_count": null,
      "outputs": []
    },
    {
      "cell_type": "code",
      "source": [
        "import plotly.express as px"
      ],
      "metadata": {
        "execution": {
          "iopub.status.busy": "2024-09-21T21:51:58.538818Z",
          "iopub.execute_input": "2024-09-21T21:51:58.539318Z",
          "iopub.status.idle": "2024-09-21T21:51:58.545795Z",
          "shell.execute_reply.started": "2024-09-21T21:51:58.53927Z",
          "shell.execute_reply": "2024-09-21T21:51:58.544294Z"
        },
        "trusted": true,
        "id": "4ypoBBE23K6d"
      },
      "execution_count": null,
      "outputs": []
    },
    {
      "cell_type": "code",
      "source": [
        "fig = plt.figure(figsize=(10, 8))\n",
        "ax = fig.add_subplot(111, projection='3d')\n",
        "x = df['Temperature']\n",
        "y = df['Humidity']\n",
        "z = df['Loudness']\n",
        "hist, xedges, yedges = np.histogram2d(x, y, bins=30, density=True)\n",
        "xpos, ypos = np.meshgrid(xedges[:-1], yedges[:-1], indexing=\"ij\")\n",
        "xpos = xpos.ravel()\n",
        "ypos = ypos.ravel()\n",
        "zpos = 0\n",
        "dx = dy = 0.1 * np.ones_like(zpos)\n",
        "dz = hist.ravel()\n",
        "ax.bar3d(xpos, ypos, zpos, dx, dy, dz, zsort='average', cmap='Blues')\n",
        "ax.set_xlabel('Temperature')\n",
        "ax.set_ylabel('Humidity')\n",
        "ax.set_zlabel('Density')\n",
        "plt.title('3D KDE of Temperature and Humidity', fontsize=14)\n",
        "plt.show()"
      ],
      "metadata": {
        "execution": {
          "iopub.status.busy": "2024-09-21T21:52:14.23902Z",
          "iopub.execute_input": "2024-09-21T21:52:14.239515Z",
          "iopub.status.idle": "2024-09-21T21:52:15.734926Z",
          "shell.execute_reply.started": "2024-09-21T21:52:14.239467Z",
          "shell.execute_reply": "2024-09-21T21:52:15.733603Z"
        },
        "trusted": true,
        "id": "7J4sdcVd3K6i"
      },
      "execution_count": null,
      "outputs": []
    },
    {
      "cell_type": "code",
      "source": [
        "df['Hour'] = df.index.hour\n",
        "df['Day'] = df.index.day_name()\n"
      ],
      "metadata": {
        "execution": {
          "iopub.status.busy": "2024-09-21T21:53:24.272336Z",
          "iopub.execute_input": "2024-09-21T21:53:24.272822Z",
          "iopub.status.idle": "2024-09-21T21:53:24.285328Z",
          "shell.execute_reply.started": "2024-09-21T21:53:24.272775Z",
          "shell.execute_reply": "2024-09-21T21:53:24.284025Z"
        },
        "trusted": true,
        "id": "nNB0mD5V3K6j"
      },
      "execution_count": null,
      "outputs": []
    },
    {
      "cell_type": "code",
      "source": [
        "df"
      ],
      "metadata": {
        "execution": {
          "iopub.status.busy": "2024-09-21T21:53:29.689174Z",
          "iopub.execute_input": "2024-09-21T21:53:29.689654Z",
          "iopub.status.idle": "2024-09-21T21:53:29.720839Z",
          "shell.execute_reply.started": "2024-09-21T21:53:29.689606Z",
          "shell.execute_reply": "2024-09-21T21:53:29.719473Z"
        },
        "trusted": true,
        "id": "HQdxLKRx3K6j"
      },
      "execution_count": null,
      "outputs": []
    },
    {
      "cell_type": "code",
      "source": [
        "plt.figure(figsize=(14, 6))\n",
        "plt.plot(df.index, df['Temperature'], label='Temperature', color='orange')\n",
        "plt.plot(df.index, df['Humidity'], label='Humidity', color='blue')\n",
        "plt.title('Time Series of Temperature and Humidity')\n",
        "plt.xlabel('Date')\n",
        "plt.ylabel('Values')\n",
        "plt.legend()\n",
        "plt.grid()\n",
        "plt.show()\n"
      ],
      "metadata": {
        "execution": {
          "iopub.status.busy": "2024-09-21T21:53:39.211109Z",
          "iopub.execute_input": "2024-09-21T21:53:39.211555Z",
          "iopub.status.idle": "2024-09-21T21:53:40.192326Z",
          "shell.execute_reply.started": "2024-09-21T21:53:39.211515Z",
          "shell.execute_reply": "2024-09-21T21:53:40.190931Z"
        },
        "trusted": true,
        "id": "wTX_R9cV3K6j"
      },
      "execution_count": null,
      "outputs": []
    },
    {
      "cell_type": "code",
      "source": [
        "daily_avg = df.groupby(['Day', 'Hour']).mean()['Temperature'].unstack()\n",
        "plt.figure(figsize=(12, 6))\n",
        "sns.heatmap(daily_avg, cmap='coolwarm', annot=True)\n",
        "plt.title('Average Temperature by Day and Hour')\n",
        "plt.xlabel('Hour of Day')\n",
        "plt.ylabel('Day of Week')\n",
        "plt.show()\n"
      ],
      "metadata": {
        "execution": {
          "iopub.status.busy": "2024-09-21T21:53:51.79698Z",
          "iopub.execute_input": "2024-09-21T21:53:51.797492Z",
          "iopub.status.idle": "2024-09-21T21:53:52.669974Z",
          "shell.execute_reply.started": "2024-09-21T21:53:51.797443Z",
          "shell.execute_reply": "2024-09-21T21:53:52.66831Z"
        },
        "trusted": true,
        "id": "nEeTsXOO3K6j"
      },
      "execution_count": null,
      "outputs": []
    },
    {
      "cell_type": "code",
      "source": [
        "from statsmodels.graphics.tsaplots import plot_acf\n",
        "\n",
        "plt.figure(figsize=(12, 6))\n",
        "plot_acf(df['Temperature'], lags=30)\n",
        "plt.title('Autocorrelation Function for Temperature')\n",
        "plt.show()\n"
      ],
      "metadata": {
        "execution": {
          "iopub.status.busy": "2024-09-21T21:55:10.865247Z",
          "iopub.execute_input": "2024-09-21T21:55:10.865798Z",
          "iopub.status.idle": "2024-09-21T21:55:13.796439Z",
          "shell.execute_reply.started": "2024-09-21T21:55:10.865747Z",
          "shell.execute_reply": "2024-09-21T21:55:13.7951Z"
        },
        "trusted": true,
        "id": "iJAWVptL3K6j"
      },
      "execution_count": null,
      "outputs": []
    },
    {
      "cell_type": "code",
      "source": [
        "from statsmodels.graphics.tsaplots import plot_pacf\n",
        "\n",
        "plt.figure(figsize=(12, 6))\n",
        "plot_pacf(df['Temperature'], lags=30)\n",
        "plt.title('Partial Autocorrelation Function for Temperature')\n",
        "plt.show()\n"
      ],
      "metadata": {
        "execution": {
          "iopub.status.busy": "2024-09-21T21:55:17.641613Z",
          "iopub.execute_input": "2024-09-21T21:55:17.642128Z",
          "iopub.status.idle": "2024-09-21T21:55:20.442666Z",
          "shell.execute_reply.started": "2024-09-21T21:55:17.642079Z",
          "shell.execute_reply": "2024-09-21T21:55:20.441339Z"
        },
        "trusted": true,
        "id": "o-w8HIV93K6k"
      },
      "execution_count": null,
      "outputs": []
    },
    {
      "cell_type": "code",
      "source": [
        "rolling_mean = df['Temperature'].rolling(window=30).mean()\n",
        "rolling_std = df['Temperature'].rolling(window=30).std()\n",
        "\n",
        "plt.figure(figsize=(14, 6))\n",
        "plt.plot(df.index, df['Temperature'], label='Temperature', color='orange')\n",
        "plt.plot(df.index, rolling_mean, label='Rolling Mean (30 days)', color='red')\n",
        "plt.plot(df.index, rolling_std, label='Rolling Std (30 days)', color='blue')\n",
        "plt.title('Temperature with Rolling Mean and Standard Deviation')\n",
        "plt.xlabel('Date')\n",
        "plt.ylabel('Temperature')\n",
        "plt.legend()\n",
        "plt.grid()\n",
        "plt.show()\n"
      ],
      "metadata": {
        "execution": {
          "iopub.status.busy": "2024-09-21T21:55:25.850611Z",
          "iopub.execute_input": "2024-09-21T21:55:25.851224Z",
          "iopub.status.idle": "2024-09-21T21:55:27.004371Z",
          "shell.execute_reply.started": "2024-09-21T21:55:25.85115Z",
          "shell.execute_reply": "2024-09-21T21:55:27.003036Z"
        },
        "trusted": true,
        "id": "q-S-RSYb3K6k"
      },
      "execution_count": null,
      "outputs": []
    },
    {
      "cell_type": "code",
      "source": [
        "plt.figure(figsize=(12, 6))\n",
        "sns.histplot(df['Temperature'], kde=True, bins=30, color='orange')\n",
        "plt.title('Distribution of Temperature with KDE')\n",
        "plt.xlabel('Temperature')\n",
        "plt.ylabel('Frequency')\n",
        "plt.show()\n"
      ],
      "metadata": {
        "execution": {
          "iopub.status.busy": "2024-09-21T21:55:52.287959Z",
          "iopub.execute_input": "2024-09-21T21:55:52.288467Z",
          "iopub.status.idle": "2024-09-21T21:55:53.132362Z",
          "shell.execute_reply.started": "2024-09-21T21:55:52.28842Z",
          "shell.execute_reply": "2024-09-21T21:55:53.130684Z"
        },
        "trusted": true,
        "id": "sicsIIH13K6k"
      },
      "execution_count": null,
      "outputs": []
    },
    {
      "cell_type": "code",
      "source": [
        "from pandas.plotting import lag_plot\n",
        "\n",
        "plt.figure(figsize=(12, 6))\n",
        "lag_plot(df['Temperature'])\n",
        "plt.title('Lag Plot for Temperature')\n",
        "plt.xlabel('Temperature(t)')\n",
        "plt.ylabel('Temperature(t-1)')\n",
        "plt.grid()\n",
        "plt.show()\n"
      ],
      "metadata": {
        "execution": {
          "iopub.status.busy": "2024-09-21T21:56:47.972841Z",
          "iopub.execute_input": "2024-09-21T21:56:47.974302Z",
          "iopub.status.idle": "2024-09-21T21:56:48.739289Z",
          "shell.execute_reply.started": "2024-09-21T21:56:47.974222Z",
          "shell.execute_reply": "2024-09-21T21:56:48.737909Z"
        },
        "trusted": true,
        "id": "xLGT9Hek3K6k"
      },
      "execution_count": null,
      "outputs": []
    },
    {
      "cell_type": "code",
      "source": [],
      "metadata": {
        "id": "4IKjBxDf3K6k"
      },
      "execution_count": null,
      "outputs": []
    },
    {
      "cell_type": "markdown",
      "source": [
        "# Forcasting"
      ],
      "metadata": {
        "id": "dxXMJriF3K6k"
      }
    },
    {
      "cell_type": "code",
      "source": [
        "data = df[['Temperature', 'Humidity', 'Loudness']]"
      ],
      "metadata": {
        "execution": {
          "iopub.status.busy": "2024-09-21T21:58:27.709968Z",
          "iopub.execute_input": "2024-09-21T21:58:27.710517Z",
          "iopub.status.idle": "2024-09-21T21:58:27.718606Z",
          "shell.execute_reply.started": "2024-09-21T21:58:27.710469Z",
          "shell.execute_reply": "2024-09-21T21:58:27.717162Z"
        },
        "trusted": true,
        "id": "iQGpFaDE3K6l"
      },
      "execution_count": null,
      "outputs": []
    },
    {
      "cell_type": "code",
      "source": [
        "from statsmodels.tsa.stattools import adfuller\n",
        "\n",
        "def adf_test(series):\n",
        "    result = adfuller(series)\n",
        "    print(f'ADF Statistic: {result[0]}')\n",
        "    print(f'p-value: {result[1]}')\n",
        "\n",
        "# Check each variable for stationarity\n",
        "adf_test(data['Temperature'])\n",
        "adf_test(data['Humidity'])\n",
        "adf_test(data['Loudness'])\n"
      ],
      "metadata": {
        "execution": {
          "iopub.status.busy": "2024-09-21T21:58:31.648522Z",
          "iopub.execute_input": "2024-09-21T21:58:31.649054Z",
          "iopub.status.idle": "2024-09-21T21:58:32.980728Z",
          "shell.execute_reply.started": "2024-09-21T21:58:31.64897Z",
          "shell.execute_reply": "2024-09-21T21:58:32.978751Z"
        },
        "trusted": true,
        "id": "JIwSgltY3K6l"
      },
      "execution_count": null,
      "outputs": []
    },
    {
      "cell_type": "code",
      "source": [
        "data_diff = data.diff().dropna()\n"
      ],
      "metadata": {
        "execution": {
          "iopub.status.busy": "2024-09-21T21:58:45.264504Z",
          "iopub.execute_input": "2024-09-21T21:58:45.265037Z",
          "iopub.status.idle": "2024-09-21T21:58:45.276647Z",
          "shell.execute_reply.started": "2024-09-21T21:58:45.264973Z",
          "shell.execute_reply": "2024-09-21T21:58:45.275223Z"
        },
        "trusted": true,
        "id": "Coxf5OG03K6l"
      },
      "execution_count": null,
      "outputs": []
    },
    {
      "cell_type": "code",
      "source": [
        "from statsmodels.tsa.api import VAR\n",
        "\n",
        "model = VAR(data_diff)\n",
        "results = model.fit(maxlags=15, ic='aic')\n"
      ],
      "metadata": {
        "execution": {
          "iopub.status.busy": "2024-09-21T21:58:52.947645Z",
          "iopub.execute_input": "2024-09-21T21:58:52.94815Z",
          "iopub.status.idle": "2024-09-21T21:58:53.928375Z",
          "shell.execute_reply.started": "2024-09-21T21:58:52.948098Z",
          "shell.execute_reply": "2024-09-21T21:58:53.926653Z"
        },
        "trusted": true,
        "id": "Z934043m3K6l"
      },
      "execution_count": null,
      "outputs": []
    },
    {
      "cell_type": "code",
      "source": [
        "print(results.summary())\n"
      ],
      "metadata": {
        "execution": {
          "iopub.status.busy": "2024-09-21T21:59:05.747782Z",
          "iopub.execute_input": "2024-09-21T21:59:05.749647Z",
          "iopub.status.idle": "2024-09-21T21:59:05.866876Z",
          "shell.execute_reply.started": "2024-09-21T21:59:05.749576Z",
          "shell.execute_reply": "2024-09-21T21:59:05.865186Z"
        },
        "trusted": true,
        "id": "b7VeeTTk3K6l"
      },
      "execution_count": null,
      "outputs": []
    },
    {
      "cell_type": "code",
      "source": [
        "from sklearn.model_selection import train_test_split\n",
        "from keras.models import Sequential\n",
        "from keras.layers import LSTM, Dense\n",
        "\n",
        "\n",
        "n_steps = 10\n",
        "n_features = data.shape[1]\n",
        "\n",
        "def create_sequences(data, n_steps):\n",
        "    X, y = [], []\n",
        "    for i in range(len(data) - n_steps):\n",
        "        X.append(data[i:(i + n_steps), :])\n",
        "        y.append(data[i + n_steps, 0])\n",
        "    return np.array(X), np.array(y)\n",
        "\n",
        "X, y = create_sequences(data.values, n_steps)\n",
        "\n",
        "X_train, X_test, y_train, y_test = train_test_split(X, y, test_size=0.2, random_state=42)\n",
        "\n",
        "model = Sequential()\n",
        "model.add(LSTM(50, activation='relu', input_shape=(n_steps, n_features)))\n",
        "model.add(Dense(1))\n",
        "model.compile(optimizer='adam', loss='mse')\n",
        "\n",
        "model.fit(X_train, y_train, epochs=200, verbose=0)\n",
        "\n",
        "predictions = model.predict(X_test)\n",
        "\n"
      ],
      "metadata": {
        "execution": {
          "iopub.status.busy": "2024-09-21T22:00:16.34801Z",
          "iopub.execute_input": "2024-09-21T22:00:16.348563Z",
          "iopub.status.idle": "2024-09-21T22:03:45.198389Z",
          "shell.execute_reply.started": "2024-09-21T22:00:16.348493Z",
          "shell.execute_reply": "2024-09-21T22:03:45.196928Z"
        },
        "trusted": true,
        "id": "GQZKq2DK3K6l"
      },
      "execution_count": null,
      "outputs": []
    },
    {
      "cell_type": "code",
      "source": [
        "start_date = data.index[-len(y_test)]\n",
        "time_index = pd.date_range(start=start_date, periods=len(y_test), freq='T')\n",
        "comparison_df = pd.DataFrame({'Actual': y_test, 'Predicted': predictions.flatten()}, index=time_index)\n",
        "plt.figure(figsize=(14, 6))\n",
        "plt.plot(comparison_df.index, comparison_df['Actual'], label='Actual Temperature', color='orange', alpha=0.7)\n",
        "plt.plot(comparison_df.index, comparison_df['Predicted'], label='Predicted Temperature', color='blue', alpha=0.7)\n",
        "plt.title('LSTM Predictions vs Actual Values')\n",
        "plt.xlabel('Date')\n",
        "plt.ylabel('Temperature')\n",
        "plt.legend()\n",
        "plt.grid()\n",
        "plt.show()\n"
      ],
      "metadata": {
        "execution": {
          "iopub.status.busy": "2024-09-21T22:03:45.201112Z",
          "iopub.execute_input": "2024-09-21T22:03:45.201549Z",
          "iopub.status.idle": "2024-09-21T22:03:46.341375Z",
          "shell.execute_reply.started": "2024-09-21T22:03:45.201501Z",
          "shell.execute_reply": "2024-09-21T22:03:46.339768Z"
        },
        "trusted": true,
        "id": "2CVMdOnu3K6m"
      },
      "execution_count": null,
      "outputs": []
    },
    {
      "cell_type": "code",
      "source": [
        "from sklearn.metrics import mean_absolute_error, mean_squared_error, r2_score\n"
      ],
      "metadata": {
        "trusted": true,
        "id": "Up4KNKy63K6m"
      },
      "execution_count": null,
      "outputs": []
    },
    {
      "cell_type": "code",
      "source": [
        "mae = mean_absolute_error(y_test, predictions)\n",
        "rmse = np.sqrt(mean_squared_error(y_test, predictions))\n",
        "r2 = r2_score(y_test, predictions)\n",
        "\n",
        "start_date = data.index[-len(y_test)]\n",
        "time_index = pd.date_range(start=start_date, periods=len(y_test), freq='T')\n",
        "\n",
        "comparison_df = pd.DataFrame({'Actual': y_test, 'Predicted': predictions.flatten()}, index=time_index)\n",
        "\n",
        "plt.figure(figsize=(14, 6))\n",
        "plt.plot(comparison_df.index, comparison_df['Actual'], label='Actual Temperature', color='orange', alpha=0.7)\n",
        "plt.plot(comparison_df.index, comparison_df['Predicted'], label='Predicted Temperature', color='blue', alpha=0.7)\n",
        "\n",
        "plt.title(f'LSTM Predictions vs Actual Values\\nMAE: {mae:.2f}, RMSE: {rmse:.2f}, R²: {r2:.2f}')\n",
        "plt.xlabel('Date')\n",
        "plt.ylabel('Temperature')\n",
        "plt.legend()\n",
        "plt.grid()\n",
        "\n",
        "residuals = comparison_df['Actual'] - comparison_df['Predicted']\n",
        "plt.figure(figsize=(14, 6))\n",
        "plt.plot(comparison_df.index, residuals, color='red', label='Residuals', alpha=0.5)\n",
        "plt.axhline(0, color='black', linestyle='--')\n",
        "plt.title('Residuals of Predictions')\n",
        "plt.xlabel('Date')\n",
        "plt.ylabel('Residuals')\n",
        "plt.legend()\n",
        "plt.grid()\n",
        "\n",
        "for i in range(1, len(residuals)):\n",
        "    if abs(residuals[i]) > 5:\n",
        "        plt.annotate('Significant Error',\n",
        "                     xy=(comparison_df.index[i], residuals[i]),\n",
        "                     xytext=(comparison_df.index[i], residuals[i] + 2),\n",
        "                     arrowprops=dict(facecolor='black', arrowstyle='->'))\n",
        "\n",
        "plt.show()"
      ],
      "metadata": {
        "execution": {
          "iopub.status.busy": "2024-09-21T22:28:29.287383Z",
          "iopub.execute_input": "2024-09-21T22:28:29.287765Z",
          "iopub.status.idle": "2024-09-21T22:28:31.653146Z",
          "shell.execute_reply.started": "2024-09-21T22:28:29.287726Z",
          "shell.execute_reply": "2024-09-21T22:28:31.651801Z"
        },
        "trusted": true,
        "id": "2GBZEJB93K6m"
      },
      "execution_count": null,
      "outputs": []
    },
    {
      "cell_type": "code",
      "source": [
        "import plotly.graph_objs as go\n",
        "\n",
        "# Create traces\n",
        "actual_trace = go.Scatter(x=comparison_df.index, y=comparison_df['Actual'], mode='lines', name='Actual Temperature', line=dict(color='orange'))\n",
        "predicted_trace = go.Scatter(x=comparison_df.index, y=comparison_df['Predicted'], mode='lines', name='Predicted Temperature', line=dict(color='blue'))\n",
        "\n",
        "# Create layout\n",
        "layout = go.Layout(title='LSTM Predictions vs Actual Values',\n",
        "                   xaxis_title='Date',\n",
        "                   yaxis_title='Temperature',\n",
        "                   hovermode='closest')\n",
        "\n",
        "# Create a figure\n",
        "fig = go.Figure(data=[actual_trace, predicted_trace], layout=layout)\n",
        "\n",
        "# Show the plot\n",
        "fig.show()\n"
      ],
      "metadata": {
        "execution": {
          "iopub.status.busy": "2024-09-21T22:29:19.223465Z",
          "iopub.execute_input": "2024-09-21T22:29:19.223965Z",
          "iopub.status.idle": "2024-09-21T22:29:19.725552Z",
          "shell.execute_reply.started": "2024-09-21T22:29:19.223914Z",
          "shell.execute_reply": "2024-09-21T22:29:19.724107Z"
        },
        "trusted": true,
        "id": "MKCdKcMV3K6m"
      },
      "execution_count": null,
      "outputs": []
    },
    {
      "cell_type": "code",
      "source": [],
      "metadata": {
        "trusted": true,
        "id": "vEOh5u_n3K6n"
      },
      "execution_count": null,
      "outputs": []
    },
    {
      "cell_type": "code",
      "source": [
        "# Calculate rolling mean and standard deviation\n",
        "rolling_mean = comparison_df['Actual'].rolling(window=24).mean()\n",
        "rolling_std = comparison_df['Actual'].rolling(window=24).std()\n",
        "\n",
        "plt.figure(figsize=(14, 6))\n",
        "plt.plot(comparison_df.index, comparison_df['Actual'], label='Actual Temperature', color='orange', alpha=0.5)\n",
        "plt.plot(comparison_df.index, rolling_mean, label='Rolling Mean (24h)', color='blue')\n",
        "plt.fill_between(comparison_df.index, rolling_mean - rolling_std, rolling_mean + rolling_std, color='blue', alpha=0.1, label='Rolling Std Dev')\n",
        "plt.title('Actual Temperature with Rolling Mean and Std Dev')\n",
        "plt.xlabel('Date')\n",
        "plt.ylabel('Temperature')\n",
        "plt.legend()\n",
        "plt.grid()\n",
        "plt.show()\n"
      ],
      "metadata": {
        "execution": {
          "iopub.status.busy": "2024-09-21T22:29:54.436809Z",
          "iopub.execute_input": "2024-09-21T22:29:54.43749Z",
          "iopub.status.idle": "2024-09-21T22:29:55.594705Z",
          "shell.execute_reply.started": "2024-09-21T22:29:54.437412Z",
          "shell.execute_reply": "2024-09-21T22:29:55.593394Z"
        },
        "trusted": true,
        "id": "J4_ybr-e3K6n"
      },
      "execution_count": null,
      "outputs": []
    },
    {
      "cell_type": "code",
      "source": [
        "comparison_df.to_csv(\"Finall.csv\"  , index=True)"
      ],
      "metadata": {
        "execution": {
          "iopub.status.busy": "2024-09-21T22:35:43.419294Z",
          "iopub.execute_input": "2024-09-21T22:35:43.419812Z",
          "iopub.status.idle": "2024-09-21T22:35:43.439368Z",
          "shell.execute_reply.started": "2024-09-21T22:35:43.419763Z",
          "shell.execute_reply": "2024-09-21T22:35:43.437805Z"
        },
        "trusted": true,
        "id": "bIuJnapN3K6n"
      },
      "execution_count": null,
      "outputs": []
    },
    {
      "cell_type": "code",
      "source": [
        "df.to_csv(\"Data.csv\"  , index=True)"
      ],
      "metadata": {
        "execution": {
          "iopub.status.busy": "2024-09-21T22:35:52.54511Z",
          "iopub.execute_input": "2024-09-21T22:35:52.546538Z",
          "iopub.status.idle": "2024-09-21T22:35:52.659577Z",
          "shell.execute_reply.started": "2024-09-21T22:35:52.546482Z",
          "shell.execute_reply": "2024-09-21T22:35:52.657965Z"
        },
        "trusted": true,
        "id": "EIA2rxZy3K6n"
      },
      "execution_count": null,
      "outputs": []
    },
    {
      "cell_type": "code",
      "source": [
        "df"
      ],
      "metadata": {
        "execution": {
          "iopub.status.busy": "2024-09-21T22:35:56.836338Z",
          "iopub.execute_input": "2024-09-21T22:35:56.836965Z",
          "iopub.status.idle": "2024-09-21T22:35:56.870714Z",
          "shell.execute_reply.started": "2024-09-21T22:35:56.836901Z",
          "shell.execute_reply": "2024-09-21T22:35:56.868954Z"
        },
        "trusted": true,
        "id": "mCXhTGej3K6n"
      },
      "execution_count": null,
      "outputs": []
    },
    {
      "cell_type": "code",
      "source": [],
      "metadata": {
        "id": "xg1ZorP43K6o"
      },
      "execution_count": null,
      "outputs": []
    }
  ]
}