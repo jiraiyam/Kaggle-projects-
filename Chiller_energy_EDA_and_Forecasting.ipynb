{
  "metadata": {
    "kernelspec": {
      "language": "python",
      "display_name": "Python 3",
      "name": "python3"
    },
    "language_info": {
      "name": "python",
      "version": "3.10.14",
      "mimetype": "text/x-python",
      "codemirror_mode": {
        "name": "ipython",
        "version": 3
      },
      "pygments_lexer": "ipython3",
      "nbconvert_exporter": "python",
      "file_extension": ".py"
    },
    "kaggle": {
      "accelerator": "none",
      "dataSources": [
        {
          "sourceId": 2503617,
          "sourceType": "datasetVersion",
          "datasetId": 1516081
        }
      ],
      "dockerImageVersionId": 30761,
      "isInternetEnabled": true,
      "language": "python",
      "sourceType": "notebook",
      "isGpuEnabled": false
    },
    "colab": {
      "name": "Chiller energy EDA and Forecasting ",
      "provenance": [],
      "include_colab_link": true
    }
  },
  "nbformat_minor": 0,
  "nbformat": 4,
  "cells": [
    {
      "cell_type": "markdown",
      "metadata": {
        "id": "view-in-github",
        "colab_type": "text"
      },
      "source": [
        "<a href=\"https://colab.research.google.com/github/jiraiyam/Kaggle-projects-/blob/main/Chiller_energy_EDA_and_Forecasting.ipynb\" target=\"_parent\"><img src=\"https://colab.research.google.com/assets/colab-badge.svg\" alt=\"Open In Colab\"/></a>"
      ]
    },
    {
      "source": [
        "\n",
        "# IMPORTANT: RUN THIS CELL IN ORDER TO IMPORT YOUR KAGGLE DATA SOURCES\n",
        "# TO THE CORRECT LOCATION (/kaggle/input) IN YOUR NOTEBOOK,\n",
        "# THEN FEEL FREE TO DELETE THIS CELL.\n",
        "# NOTE: THIS NOTEBOOK ENVIRONMENT DIFFERS FROM KAGGLE'S PYTHON\n",
        "# ENVIRONMENT SO THERE MAY BE MISSING LIBRARIES USED BY YOUR\n",
        "# NOTEBOOK.\n",
        "\n",
        "import os\n",
        "import sys\n",
        "from tempfile import NamedTemporaryFile\n",
        "from urllib.request import urlopen\n",
        "from urllib.parse import unquote, urlparse\n",
        "from urllib.error import HTTPError\n",
        "from zipfile import ZipFile\n",
        "import tarfile\n",
        "import shutil\n",
        "\n",
        "CHUNK_SIZE = 40960\n",
        "DATA_SOURCE_MAPPING = 'chiller-energy-data:https%3A%2F%2Fstorage.googleapis.com%2Fkaggle-data-sets%2F1516081%2F2503617%2Fbundle%2Farchive.zip%3FX-Goog-Algorithm%3DGOOG4-RSA-SHA256%26X-Goog-Credential%3Dgcp-kaggle-com%2540kaggle-161607.iam.gserviceaccount.com%252F20240902%252Fauto%252Fstorage%252Fgoog4_request%26X-Goog-Date%3D20240902T221657Z%26X-Goog-Expires%3D259200%26X-Goog-SignedHeaders%3Dhost%26X-Goog-Signature%3D73c23ddbd8e5a6f7b060e95722bda4605f5e6c3ca2326bffb623b152e3aad02ee96f7534bc5252afb36f0790a3cd3b2b1cf4252408834a66cfb250be9d9eb321ac0e7480470a2f7660178e9442fe717bfa3e9e7e2c1e9d569abc391c631da302309f859f1b8e3fe15f20844f2da7422d420f3bd239597e9d6f6a3fa5cb71dfc2f0ba0b6048a2133798c5fc1941c0e20a7d554b6dd12fa2c2e34b4d5755128412dd0e19f6878780482be626bb483e525994d4e861e2b3fb5b5797c66c06d409587b8297e439c7342c146021fcdca33253824db3b874d8aa4d46a1dd25ec19c42c924b65c4caac1fbe820d4d1ed2ca9765a61c6d6115d9d66355e51558e1498382'\n",
        "\n",
        "KAGGLE_INPUT_PATH='/kaggle/input'\n",
        "KAGGLE_WORKING_PATH='/kaggle/working'\n",
        "KAGGLE_SYMLINK='kaggle'\n",
        "\n",
        "!umount /kaggle/input/ 2> /dev/null\n",
        "shutil.rmtree('/kaggle/input', ignore_errors=True)\n",
        "os.makedirs(KAGGLE_INPUT_PATH, 0o777, exist_ok=True)\n",
        "os.makedirs(KAGGLE_WORKING_PATH, 0o777, exist_ok=True)\n",
        "\n",
        "try:\n",
        "  os.symlink(KAGGLE_INPUT_PATH, os.path.join(\"..\", 'input'), target_is_directory=True)\n",
        "except FileExistsError:\n",
        "  pass\n",
        "try:\n",
        "  os.symlink(KAGGLE_WORKING_PATH, os.path.join(\"..\", 'working'), target_is_directory=True)\n",
        "except FileExistsError:\n",
        "  pass\n",
        "\n",
        "for data_source_mapping in DATA_SOURCE_MAPPING.split(','):\n",
        "    directory, download_url_encoded = data_source_mapping.split(':')\n",
        "    download_url = unquote(download_url_encoded)\n",
        "    filename = urlparse(download_url).path\n",
        "    destination_path = os.path.join(KAGGLE_INPUT_PATH, directory)\n",
        "    try:\n",
        "        with urlopen(download_url) as fileres, NamedTemporaryFile() as tfile:\n",
        "            total_length = fileres.headers['content-length']\n",
        "            print(f'Downloading {directory}, {total_length} bytes compressed')\n",
        "            dl = 0\n",
        "            data = fileres.read(CHUNK_SIZE)\n",
        "            while len(data) > 0:\n",
        "                dl += len(data)\n",
        "                tfile.write(data)\n",
        "                done = int(50 * dl / int(total_length))\n",
        "                sys.stdout.write(f\"\\r[{'=' * done}{' ' * (50-done)}] {dl} bytes downloaded\")\n",
        "                sys.stdout.flush()\n",
        "                data = fileres.read(CHUNK_SIZE)\n",
        "            if filename.endswith('.zip'):\n",
        "              with ZipFile(tfile) as zfile:\n",
        "                zfile.extractall(destination_path)\n",
        "            else:\n",
        "              with tarfile.open(tfile.name) as tarfile:\n",
        "                tarfile.extractall(destination_path)\n",
        "            print(f'\\nDownloaded and uncompressed: {directory}')\n",
        "    except HTTPError as e:\n",
        "        print(f'Failed to load (likely expired) {download_url} to path {destination_path}')\n",
        "        continue\n",
        "    except OSError as e:\n",
        "        print(f'Failed to load {download_url} to path {destination_path}')\n",
        "        continue\n",
        "\n",
        "print('Data source import complete.')\n"
      ],
      "metadata": {
        "id": "-wrh3-LUz9ER"
      },
      "cell_type": "code",
      "outputs": [],
      "execution_count": null
    },
    {
      "cell_type": "code",
      "source": [
        "import pandas as pd\n",
        "import numpy as np\n",
        "import matplotlib.pyplot as plt\n",
        "import plotly.express as px\n",
        "from pylab import rcParams\n",
        "import warnings\n",
        "import seaborn as sns\n",
        "rcParams[\"figure.figsize\"]=(30,18)\n",
        "plt.rcParams['figure.dpi'] = 300\n",
        "plt.rcParams['font.family'] = 'Arial'\n",
        "plt.rcParams['font.weight'] = 'bold'\n",
        "plt.rcParams['font.size'] = 20\n",
        "warnings.filterwarnings(\"ignore\")\n",
        "warnings.simplefilter(action='ignore', category=FutureWarning)\n",
        "import os\n",
        "for dirname, _, filenames in os.walk('/kaggle/input'):\n",
        "    for filename in filenames:\n",
        "        Path=os.path.join(dirname, filename)\n",
        "        print(Path)"
      ],
      "metadata": {
        "_uuid": "8f2839f25d086af736a60e9eeb907d3b93b6e0e5",
        "_cell_guid": "b1076dfc-b9ad-4769-8c92-a6c4dae69d19",
        "execution": {
          "iopub.status.busy": "2024-09-02T17:43:46.569462Z",
          "iopub.execute_input": "2024-09-02T17:43:46.569966Z",
          "iopub.status.idle": "2024-09-02T17:43:49.809033Z",
          "shell.execute_reply.started": "2024-09-02T17:43:46.569918Z",
          "shell.execute_reply": "2024-09-02T17:43:49.807738Z"
        },
        "trusted": true,
        "id": "y0NpfAhlz9ET"
      },
      "execution_count": null,
      "outputs": []
    },
    {
      "cell_type": "code",
      "source": [
        "df=pd.read_csv(Path)\n",
        "df"
      ],
      "metadata": {
        "execution": {
          "iopub.status.busy": "2024-09-02T17:44:12.758017Z",
          "iopub.execute_input": "2024-09-02T17:44:12.758534Z",
          "iopub.status.idle": "2024-09-02T17:44:12.863362Z",
          "shell.execute_reply.started": "2024-09-02T17:44:12.758486Z",
          "shell.execute_reply": "2024-09-02T17:44:12.861747Z"
        },
        "trusted": true,
        "id": "bKZj-rSiz9ET"
      },
      "execution_count": null,
      "outputs": []
    },
    {
      "cell_type": "code",
      "source": [
        "df.isnull().sum()"
      ],
      "metadata": {
        "execution": {
          "iopub.status.busy": "2024-09-02T17:45:32.639315Z",
          "iopub.execute_input": "2024-09-02T17:45:32.639851Z",
          "iopub.status.idle": "2024-09-02T17:45:32.659461Z",
          "shell.execute_reply.started": "2024-09-02T17:45:32.639804Z",
          "shell.execute_reply": "2024-09-02T17:45:32.657867Z"
        },
        "trusted": true,
        "id": "KZpZz1ekz9EU"
      },
      "execution_count": null,
      "outputs": []
    },
    {
      "cell_type": "code",
      "source": [
        "df.describe()"
      ],
      "metadata": {
        "execution": {
          "iopub.status.busy": "2024-09-02T17:46:16.681785Z",
          "iopub.execute_input": "2024-09-02T17:46:16.68227Z",
          "iopub.status.idle": "2024-09-02T17:46:16.731566Z",
          "shell.execute_reply.started": "2024-09-02T17:46:16.682224Z",
          "shell.execute_reply": "2024-09-02T17:46:16.730251Z"
        },
        "trusted": true,
        "id": "qpAvyUa9z9EU"
      },
      "execution_count": null,
      "outputs": []
    },
    {
      "cell_type": "code",
      "source": [
        "df['Local Time'] = pd.to_datetime(df['Local Time (Timezone : GMT+8h)'], format='%m/%d/%Y %H:%M')\n",
        "df"
      ],
      "metadata": {
        "execution": {
          "iopub.status.busy": "2024-09-02T17:46:25.009231Z",
          "iopub.execute_input": "2024-09-02T17:46:25.009771Z",
          "iopub.status.idle": "2024-09-02T17:46:25.121131Z",
          "shell.execute_reply.started": "2024-09-02T17:46:25.00972Z",
          "shell.execute_reply": "2024-09-02T17:46:25.119624Z"
        },
        "trusted": true,
        "id": "u_hHr2Qgz9EU"
      },
      "execution_count": null,
      "outputs": []
    },
    {
      "cell_type": "code",
      "source": [
        "plt.plot(df['Local Time'], df['Building Load (RT)'], label='Building Load')\n",
        "plt.xlabel('Time')\n",
        "plt.ylabel('Building Load (RT)')\n",
        "plt.title('Building Load Over Time')\n",
        "plt.legend()\n",
        "plt.grid(True)\n",
        "plt.show()"
      ],
      "metadata": {
        "execution": {
          "iopub.status.busy": "2024-09-02T17:46:35.097989Z",
          "iopub.execute_input": "2024-09-02T17:46:35.098528Z",
          "iopub.status.idle": "2024-09-02T17:46:39.379083Z",
          "shell.execute_reply.started": "2024-09-02T17:46:35.098479Z",
          "shell.execute_reply": "2024-09-02T17:46:39.376978Z"
        },
        "trusted": true,
        "id": "Bg-LDfvtz9EV"
      },
      "execution_count": null,
      "outputs": []
    },
    {
      "cell_type": "code",
      "source": [
        "df.info()"
      ],
      "metadata": {
        "execution": {
          "iopub.status.busy": "2024-09-02T17:47:32.935573Z",
          "iopub.execute_input": "2024-09-02T17:47:32.936073Z",
          "iopub.status.idle": "2024-09-02T17:47:32.963971Z",
          "shell.execute_reply.started": "2024-09-02T17:47:32.936023Z",
          "shell.execute_reply": "2024-09-02T17:47:32.962672Z"
        },
        "trusted": true,
        "id": "zL8ItRnDz9EV"
      },
      "execution_count": null,
      "outputs": []
    },
    {
      "cell_type": "markdown",
      "source": [
        "# Pearson correlation between Building Load and Chiller Energy Consumption\n",
        "Importance: Measures the linear relationship between two continuous variables. It helps in understanding the strength and direction of the relationship.\n"
      ],
      "metadata": {
        "id": "tjkUpshxz9EV"
      }
    },
    {
      "cell_type": "code",
      "source": [
        "from scipy.stats import pearsonr\n",
        "\n",
        "corr, p_value = pearsonr(df['Building Load (RT)'], df['Chiller Energy Consumption (kWh)'])\n",
        "print(f'Pearson Correlation: {corr:.2f}, p-value: {p_value:.4f}')\n"
      ],
      "metadata": {
        "execution": {
          "iopub.status.busy": "2024-09-02T17:47:52.316821Z",
          "iopub.execute_input": "2024-09-02T17:47:52.317341Z",
          "iopub.status.idle": "2024-09-02T17:47:52.331007Z",
          "shell.execute_reply.started": "2024-09-02T17:47:52.317297Z",
          "shell.execute_reply": "2024-09-02T17:47:52.329381Z"
        },
        "trusted": true,
        "id": "v7EHot3gz9EW"
      },
      "execution_count": null,
      "outputs": []
    },
    {
      "cell_type": "code",
      "source": [
        "plt.figure(figsize=(10, 6))\n",
        "sns.scatterplot(x='Building Load (RT)', y='Chiller Energy Consumption (kWh)', data=df)\n",
        "plt.xlabel('Building Load (RT)')\n",
        "plt.ylabel('Chiller Energy Consumption (kWh)')\n",
        "plt.title('Pearson Correlation between Building Load and Chiller Energy Consumption')\n",
        "plt.grid(True)\n",
        "plt.show()\n"
      ],
      "metadata": {
        "execution": {
          "iopub.status.busy": "2024-09-02T17:48:19.343421Z",
          "iopub.execute_input": "2024-09-02T17:48:19.343883Z",
          "iopub.status.idle": "2024-09-02T17:48:20.936811Z",
          "shell.execute_reply.started": "2024-09-02T17:48:19.343841Z",
          "shell.execute_reply": "2024-09-02T17:48:20.935334Z"
        },
        "trusted": true,
        "id": "AgU1C062z9EX"
      },
      "execution_count": null,
      "outputs": []
    },
    {
      "cell_type": "markdown",
      "source": [
        "# Spearman rank correlation between Building Load and Outside Temperature\n",
        "Importance: Measures the monotonic relationship between two variables. Useful when the relationship is not linear but still has a consistent order.\n"
      ],
      "metadata": {
        "id": "OgqBGE2iz9EX"
      }
    },
    {
      "cell_type": "code",
      "source": [
        "from scipy.stats import spearmanr\n",
        "\n",
        "corr, p_value = spearmanr(df['Building Load (RT)'], df['Outside Temperature (F)'])\n",
        "print(f'Spearman Rank Correlation: {corr:.2f}, p-value: {p_value:.4f}')\n"
      ],
      "metadata": {
        "execution": {
          "iopub.status.busy": "2024-09-02T17:49:05.549846Z",
          "iopub.execute_input": "2024-09-02T17:49:05.550377Z",
          "iopub.status.idle": "2024-09-02T17:49:05.567216Z",
          "shell.execute_reply.started": "2024-09-02T17:49:05.550329Z",
          "shell.execute_reply": "2024-09-02T17:49:05.565735Z"
        },
        "trusted": true,
        "id": "PKe3yc2wz9EX"
      },
      "execution_count": null,
      "outputs": []
    },
    {
      "cell_type": "code",
      "source": [
        "plt.figure(figsize=(10, 6))\n",
        "sns.scatterplot(x='Building Load (RT)', y='Chiller Energy Consumption (kWh)', data=df)\n",
        "plt.xlabel('Building Load (RT)')\n",
        "plt.ylabel('Chiller Energy Consumption (kWh)')\n",
        "plt.title('Pearson Correlation between Building Load and Chiller Energy Consumption')\n",
        "plt.grid(True)\n",
        "plt.show()\n",
        "\n"
      ],
      "metadata": {
        "execution": {
          "iopub.status.busy": "2024-09-02T17:49:23.408677Z",
          "iopub.execute_input": "2024-09-02T17:49:23.409138Z",
          "iopub.status.idle": "2024-09-02T17:49:24.485459Z",
          "shell.execute_reply.started": "2024-09-02T17:49:23.409095Z",
          "shell.execute_reply": "2024-09-02T17:49:24.483902Z"
        },
        "trusted": true,
        "id": "pg71Ha_5z9EY"
      },
      "execution_count": null,
      "outputs": []
    },
    {
      "cell_type": "markdown",
      "source": [
        "**Linear Regression\n",
        "**\n",
        "\n",
        "Importance: Helps in understanding the relationship between an independent variable (predictor) and a dependent variable (outcome). It can also be used to make predictions.\n",
        "\n",
        "\n"
      ],
      "metadata": {
        "id": "x3UeCSJ3z9EY"
      }
    },
    {
      "cell_type": "code",
      "source": [
        "import statsmodels.api as sm\n",
        "\n",
        "# Prepare data for regression\n",
        "X = df[['Outside Temperature (F)']]  # Independent variable\n",
        "X = sm.add_constant(X)  # Add constant for intercept\n",
        "y = df['Building Load (RT)']  # Dependent variable\n",
        "\n",
        "# Fit the model\n",
        "model = sm.OLS(y, X).fit()\n",
        "print(model.summary())\n"
      ],
      "metadata": {
        "execution": {
          "iopub.status.busy": "2024-09-02T17:49:42.42263Z",
          "iopub.execute_input": "2024-09-02T17:49:42.423194Z",
          "iopub.status.idle": "2024-09-02T17:49:44.338827Z",
          "shell.execute_reply.started": "2024-09-02T17:49:42.423146Z",
          "shell.execute_reply": "2024-09-02T17:49:44.337429Z"
        },
        "trusted": true,
        "id": "z8n-3aiyz9EY"
      },
      "execution_count": null,
      "outputs": []
    },
    {
      "cell_type": "code",
      "source": [
        "plt.figure(figsize=(10, 6))\n",
        "sns.scatterplot(x='Outside Temperature (F)', y='Building Load (RT)', data=df, label='Data')\n",
        "sns.lineplot(x=df['Outside Temperature (F)'], y=model.predict(X), color='red', label='Regression Line')\n",
        "plt.xlabel('Outside Temperature (F)')\n",
        "plt.ylabel('Building Load (RT)')\n",
        "plt.title('Linear Regression of Building Load on Outside Temperature')\n",
        "plt.legend()\n",
        "plt.grid(True)\n",
        "plt.show()\n"
      ],
      "metadata": {
        "execution": {
          "iopub.status.busy": "2024-09-02T17:50:29.532891Z",
          "iopub.execute_input": "2024-09-02T17:50:29.533623Z",
          "iopub.status.idle": "2024-09-02T17:50:31.366299Z",
          "shell.execute_reply.started": "2024-09-02T17:50:29.533577Z",
          "shell.execute_reply": "2024-09-02T17:50:31.364772Z"
        },
        "trusted": true,
        "id": "UbCPVbqzz9EY"
      },
      "execution_count": null,
      "outputs": []
    },
    {
      "cell_type": "code",
      "source": [
        "from scipy.stats import chi2_contingency\n",
        "\n",
        "temperature_bins = pd.cut(df['Outside Temperature (F)'], bins=5)\n",
        "humidity_bins = pd.cut(df['Humidity (%)'], bins=5)\n",
        "contingency_table = pd.crosstab(temperature_bins, humidity_bins)\n",
        "\n",
        "# Perform Chi-Square test\n",
        "chi2, p_value, dof, expected = chi2_contingency(contingency_table)\n",
        "print(f'Chi-Square: {chi2:.2f}, p-value: {p_value:.4f}')\n"
      ],
      "metadata": {
        "execution": {
          "iopub.status.busy": "2024-09-02T17:50:40.362348Z",
          "iopub.execute_input": "2024-09-02T17:50:40.362873Z",
          "iopub.status.idle": "2024-09-02T17:50:40.467421Z",
          "shell.execute_reply.started": "2024-09-02T17:50:40.36283Z",
          "shell.execute_reply": "2024-09-02T17:50:40.466149Z"
        },
        "trusted": true,
        "id": "j2_PEqxLz9EY"
      },
      "execution_count": null,
      "outputs": []
    },
    {
      "cell_type": "code",
      "source": [
        "plt.figure(figsize=(10, 6))\n",
        "sns.heatmap(contingency_table, annot=True, cmap='YlGnBu', fmt='d')\n",
        "plt.title('Chi-Square Test Contingency Table')\n",
        "plt.xlabel('Humidity Bins')\n",
        "plt.ylabel('Temperature Bins')\n",
        "plt.show()\n"
      ],
      "metadata": {
        "execution": {
          "iopub.status.busy": "2024-09-02T17:50:46.359103Z",
          "iopub.execute_input": "2024-09-02T17:50:46.359621Z",
          "iopub.status.idle": "2024-09-02T17:50:47.555022Z",
          "shell.execute_reply.started": "2024-09-02T17:50:46.359573Z",
          "shell.execute_reply": "2024-09-02T17:50:47.553466Z"
        },
        "trusted": true,
        "id": "PS4FLXn9z9EY"
      },
      "execution_count": null,
      "outputs": []
    },
    {
      "cell_type": "code",
      "source": [
        "df['Local Time (Timezone : GMT+8h)'] = pd.to_datetime(df['Local Time (Timezone : GMT+8h)'], format='%m/%d/%Y %H:%M')"
      ],
      "metadata": {
        "execution": {
          "iopub.status.busy": "2024-09-02T17:51:52.793307Z",
          "iopub.execute_input": "2024-09-02T17:51:52.793885Z",
          "iopub.status.idle": "2024-09-02T17:51:52.878791Z",
          "shell.execute_reply.started": "2024-09-02T17:51:52.793836Z",
          "shell.execute_reply": "2024-09-02T17:51:52.877082Z"
        },
        "trusted": true,
        "id": "No46GU-Nz9EY"
      },
      "execution_count": null,
      "outputs": []
    },
    {
      "cell_type": "code",
      "source": [
        "df.info()"
      ],
      "metadata": {
        "execution": {
          "iopub.status.busy": "2024-09-02T17:52:07.325617Z",
          "iopub.execute_input": "2024-09-02T17:52:07.326211Z",
          "iopub.status.idle": "2024-09-02T17:52:07.345716Z",
          "shell.execute_reply.started": "2024-09-02T17:52:07.326153Z",
          "shell.execute_reply": "2024-09-02T17:52:07.343764Z"
        },
        "trusted": true,
        "id": "QkDksULIz9EY"
      },
      "execution_count": null,
      "outputs": []
    },
    {
      "cell_type": "markdown",
      "source": [
        "**Feature Engineering**"
      ],
      "metadata": {
        "id": "lPwznjYOz9EY"
      }
    },
    {
      "cell_type": "code",
      "source": [
        "df['Year'] = df['Local Time (Timezone : GMT+8h)'].dt.year\n",
        "df['Month'] = df['Local Time (Timezone : GMT+8h)'].dt.month\n",
        "df['Day'] = df['Local Time (Timezone : GMT+8h)'].dt.day\n",
        "df['Hour'] = df['Local Time (Timezone : GMT+8h)'].dt.hour\n",
        "df['DayOfWeek'] = df['Local Time (Timezone : GMT+8h)'].dt.dayofweek\n",
        "from sklearn.preprocessing import MinMaxScaler\n",
        "scaler = MinMaxScaler()\n",
        "numerical_cols = ['Chilled Water Rate (L/sec)', 'Cooling Water Temperature (C)', 'Building Load (RT)', 'Chiller Energy Consumption (kWh)', 'Outside Temperature (F)', 'Dew Point (F)', 'Humidity (%)', 'Wind Speed (mph)', 'Pressure (in)']\n",
        "df[numerical_cols] = scaler.fit_transform(df[numerical_cols])\n",
        "df"
      ],
      "metadata": {
        "execution": {
          "iopub.status.busy": "2024-09-02T17:52:45.469044Z",
          "iopub.execute_input": "2024-09-02T17:52:45.469529Z",
          "iopub.status.idle": "2024-09-02T17:52:45.566939Z",
          "shell.execute_reply.started": "2024-09-02T17:52:45.469485Z",
          "shell.execute_reply": "2024-09-02T17:52:45.565176Z"
        },
        "trusted": true,
        "id": "KRG8Qktyz9EZ"
      },
      "execution_count": null,
      "outputs": []
    },
    {
      "cell_type": "code",
      "source": [],
      "metadata": {
        "trusted": true,
        "id": "d9jgB-0dz9EZ"
      },
      "execution_count": null,
      "outputs": []
    },
    {
      "cell_type": "code",
      "source": [
        "from statsmodels.tsa.seasonal import seasonal_decompose\n",
        "\n",
        "df.set_index('Local Time (Timezone : GMT+8h)', inplace=True)\n",
        "result = seasonal_decompose(df['Building Load (RT)'], model='additive', period=24)\n",
        "\n",
        "result.plot()\n",
        "plt.show()"
      ],
      "metadata": {
        "execution": {
          "iopub.status.busy": "2024-09-02T17:54:23.325694Z",
          "iopub.execute_input": "2024-09-02T17:54:23.326761Z",
          "iopub.status.idle": "2024-09-02T17:54:31.581775Z",
          "shell.execute_reply.started": "2024-09-02T17:54:23.326708Z",
          "shell.execute_reply": "2024-09-02T17:54:31.580211Z"
        },
        "trusted": true,
        "id": "Dcp0vjpmz9EZ"
      },
      "execution_count": null,
      "outputs": []
    },
    {
      "cell_type": "code",
      "source": [
        "from sklearn.model_selection import train_test_split\n",
        "\n",
        "X = df[['Chilled Water Rate (L/sec)', 'Cooling Water Temperature (C)', 'Outside Temperature (F)', 'Dew Point (F)', 'Humidity (%)', 'Wind Speed (mph)', 'Pressure (in)']]\n",
        "y = df['Building Load (RT)']\n",
        "\n",
        "X_train, X_test, y_train, y_test = train_test_split(X, y, test_size=0.2, random_state=42)\n"
      ],
      "metadata": {
        "execution": {
          "iopub.status.busy": "2024-09-02T17:55:40.442825Z",
          "iopub.execute_input": "2024-09-02T17:55:40.444408Z",
          "iopub.status.idle": "2024-09-02T17:55:40.461575Z",
          "shell.execute_reply.started": "2024-09-02T17:55:40.444325Z",
          "shell.execute_reply": "2024-09-02T17:55:40.460066Z"
        },
        "trusted": true,
        "id": "6fCHywhvz9EZ"
      },
      "execution_count": null,
      "outputs": []
    },
    {
      "cell_type": "code",
      "source": [
        "import statsmodels.api as sm\n",
        "X = sm.add_constant(X_train)\n",
        "model = sm.OLS(y_train, X).fit()\n",
        "residuals = y_train - model.predict(X)\n",
        "plt.figure(figsize=(10, 6))\n",
        "plt.scatter(model.predict(X), residuals)\n",
        "plt.axhline(0, color='red', linestyle='--')\n",
        "plt.xlabel('Fitted Values')\n",
        "plt.ylabel('Residuals')\n",
        "plt.title('Residual Plot')\n",
        "plt.show()\n"
      ],
      "metadata": {
        "execution": {
          "iopub.status.busy": "2024-09-02T17:55:53.440796Z",
          "iopub.execute_input": "2024-09-02T17:55:53.441254Z",
          "iopub.status.idle": "2024-09-02T17:55:54.325252Z",
          "shell.execute_reply.started": "2024-09-02T17:55:53.441208Z",
          "shell.execute_reply": "2024-09-02T17:55:54.323914Z"
        },
        "trusted": true,
        "id": "v9xlKYBIz9EZ"
      },
      "execution_count": null,
      "outputs": []
    },
    {
      "cell_type": "code",
      "source": [
        "from pandas.plotting import lag_plot\n",
        "lag_plot(df['Building Load (RT)'])\n",
        "plt.title('Lag Plot of Building Load')\n",
        "plt.show()\n"
      ],
      "metadata": {
        "execution": {
          "iopub.status.busy": "2024-09-02T17:56:15.035505Z",
          "iopub.execute_input": "2024-09-02T17:56:15.036053Z",
          "iopub.status.idle": "2024-09-02T17:56:18.449332Z",
          "shell.execute_reply.started": "2024-09-02T17:56:15.035999Z",
          "shell.execute_reply": "2024-09-02T17:56:18.447876Z"
        },
        "trusted": true,
        "id": "GSTWX2l3z9EZ"
      },
      "execution_count": null,
      "outputs": []
    },
    {
      "cell_type": "code",
      "source": [
        "from sklearn.ensemble import RandomForestRegressor\n",
        "from sklearn.model_selection import train_test_split\n",
        "\n",
        "X = df[['Chilled Water Rate (L/sec)', 'Cooling Water Temperature (C)', 'Outside Temperature (F)', 'Dew Point (F)', 'Humidity (%)', 'Wind Speed (mph)', 'Pressure (in)']]\n",
        "y = df['Building Load (RT)']\n",
        "\n",
        "# Split the data\n",
        "X_train, X_test, y_train, y_test = train_test_split(X, y, test_size=0.2, random_state=42)\n",
        "\n",
        "model = RandomForestRegressor()\n",
        "model.fit(X_train, y_train)\n",
        "\n",
        "importances = model.feature_importances_\n",
        "\n",
        "if len(X.columns) == len(importances):\n",
        "    importance_df = pd.DataFrame({\n",
        "        'Feature': X.columns,\n",
        "        'Importance': importances\n",
        "    })\n",
        "    importance_df.sort_values(by='Importance', ascending=False, inplace=True)\n",
        "    print(importance_df)\n",
        "else:\n",
        "    print(\"Mismatch between number of features and importance scores\")\n",
        "    print(\"Features:\", len(X.columns))\n",
        "    print(\"Importances:\", len(importances))\n"
      ],
      "metadata": {
        "execution": {
          "iopub.status.busy": "2024-09-02T17:57:47.624598Z",
          "iopub.execute_input": "2024-09-02T17:57:47.625993Z",
          "iopub.status.idle": "2024-09-02T17:57:51.281166Z",
          "shell.execute_reply.started": "2024-09-02T17:57:47.625926Z",
          "shell.execute_reply": "2024-09-02T17:57:51.279745Z"
        },
        "trusted": true,
        "id": "Jk8T6Qoaz9EZ"
      },
      "execution_count": null,
      "outputs": []
    },
    {
      "cell_type": "code",
      "source": [
        "import matplotlib.pyplot as plt\n",
        "import seaborn as sns\n",
        "\n",
        "plt.figure(figsize=(12, 6))\n",
        "sns.barplot(x='Importance', y='Feature', data=importance_df, palette='viridis')\n",
        "plt.title('Feature Importances from RandomForestRegressor')\n",
        "plt.xlabel('Importance')\n",
        "plt.ylabel('Feature')\n",
        "plt.show()\n"
      ],
      "metadata": {
        "execution": {
          "iopub.status.busy": "2024-09-02T17:58:33.282824Z",
          "iopub.execute_input": "2024-09-02T17:58:33.283311Z",
          "iopub.status.idle": "2024-09-02T17:58:34.319609Z",
          "shell.execute_reply.started": "2024-09-02T17:58:33.283268Z",
          "shell.execute_reply": "2024-09-02T17:58:34.317974Z"
        },
        "trusted": true,
        "id": "Wei6Pqkoz9EZ"
      },
      "execution_count": null,
      "outputs": []
    },
    {
      "cell_type": "code",
      "source": [
        "df"
      ],
      "metadata": {
        "execution": {
          "iopub.status.busy": "2024-09-02T17:58:45.171592Z",
          "iopub.execute_input": "2024-09-02T17:58:45.172102Z",
          "iopub.status.idle": "2024-09-02T17:58:45.206801Z",
          "shell.execute_reply.started": "2024-09-02T17:58:45.172056Z",
          "shell.execute_reply": "2024-09-02T17:58:45.20509Z"
        },
        "trusted": true,
        "id": "e7rNeFfjz9EZ"
      },
      "execution_count": null,
      "outputs": []
    },
    {
      "cell_type": "code",
      "source": [],
      "metadata": {
        "id": "4_IMgddtz9Ea"
      },
      "execution_count": null,
      "outputs": []
    },
    {
      "cell_type": "code",
      "source": [
        "from sklearn.model_selection import train_test_split\n",
        "from sklearn.ensemble import GradientBoostingRegressor\n",
        "from sklearn.metrics import mean_squared_error\n",
        "\n",
        "top_features = importance_df.head(3)['Feature'].tolist()\n",
        "X_top = X[top_features]\n",
        "\n",
        "X_train_top, X_test_top, y_train, y_test = train_test_split(X_top, y, test_size=0.2, random_state=42)\n",
        "\n",
        "model_top = GradientBoostingRegressor()\n",
        "model_top.fit(X_train_top, y_train)\n",
        "\n",
        "y_pred = model_top.predict(X_test_top)\n",
        "mse = mean_squared_error(y_test, y_pred)\n",
        "print(f'Mean Squared Error with Top Features: {mse}')\n"
      ],
      "metadata": {
        "execution": {
          "iopub.status.busy": "2024-09-02T17:58:58.912482Z",
          "iopub.execute_input": "2024-09-02T17:58:58.912957Z",
          "iopub.status.idle": "2024-09-02T17:58:59.552293Z",
          "shell.execute_reply.started": "2024-09-02T17:58:58.912914Z",
          "shell.execute_reply": "2024-09-02T17:58:59.550682Z"
        },
        "trusted": true,
        "id": "HX58enrgz9Ea"
      },
      "execution_count": null,
      "outputs": []
    },
    {
      "cell_type": "code",
      "source": [
        "df.set_index('Local Time', inplace=True)"
      ],
      "metadata": {
        "execution": {
          "iopub.status.busy": "2024-09-02T17:59:42.432978Z",
          "iopub.execute_input": "2024-09-02T17:59:42.43354Z",
          "iopub.status.idle": "2024-09-02T17:59:42.442154Z",
          "shell.execute_reply.started": "2024-09-02T17:59:42.433492Z",
          "shell.execute_reply": "2024-09-02T17:59:42.440407Z"
        },
        "trusted": true,
        "id": "JmJR5r8uz9Ea"
      },
      "execution_count": null,
      "outputs": []
    },
    {
      "cell_type": "code",
      "source": [
        "df.sort_index(inplace=True)\n"
      ],
      "metadata": {
        "execution": {
          "iopub.status.busy": "2024-09-02T17:59:47.949756Z",
          "iopub.execute_input": "2024-09-02T17:59:47.950283Z",
          "iopub.status.idle": "2024-09-02T17:59:47.957375Z",
          "shell.execute_reply.started": "2024-09-02T17:59:47.950236Z",
          "shell.execute_reply": "2024-09-02T17:59:47.955724Z"
        },
        "trusted": true,
        "id": "jtJ7lZ5Vz9Ea"
      },
      "execution_count": null,
      "outputs": []
    },
    {
      "cell_type": "code",
      "source": [
        "plt.figure(figsize=(14, 7))\n",
        "plt.plot(df.index, df['Building Load (RT)'], label='Building Load (RT)', color='blue')\n",
        "plt.xlabel('Date', fontsize=14, fontweight='bold', rotation=45)  # Rotate x-axis label\n",
        "plt.ylabel('Building Load (RT)', fontsize=14, fontweight='bold', rotation=90)  # Rotate y-axis label\n",
        "plt.title('Building Load Over Time', fontsize=16, fontweight='bold')\n",
        "plt.legend()\n",
        "plt.grid(True)\n",
        "plt.xticks(rotation=45)\n",
        "plt.show()"
      ],
      "metadata": {
        "execution": {
          "iopub.status.busy": "2024-09-02T18:00:35.464512Z",
          "iopub.execute_input": "2024-09-02T18:00:35.465011Z",
          "iopub.status.idle": "2024-09-02T18:00:36.77718Z",
          "shell.execute_reply.started": "2024-09-02T18:00:35.464967Z",
          "shell.execute_reply": "2024-09-02T18:00:36.775526Z"
        },
        "trusted": true,
        "id": "MIcU_ujuz9Ea"
      },
      "execution_count": null,
      "outputs": []
    },
    {
      "cell_type": "code",
      "source": [
        "plt.figure(figsize=(14, 7))\n",
        "plt.plot(df.index, df['Chiller Energy Consumption (kWh)'], label='Chiller Energy Consumption (kWh)', color='red')\n",
        "plt.xlabel('Date', fontsize=14, fontweight='bold', rotation=45)  # Rotate x-axis label\n",
        "plt.ylabel('Chiller Energy Consumption (kWh)', fontsize=14, fontweight='bold', rotation=90)  # Rotate y-axis label\n",
        "plt.title('Chiller Energy Consumption Over Time', fontsize=16, fontweight='bold')\n",
        "plt.legend()\n",
        "plt.grid(True)\n",
        "plt.xticks(rotation=45)  # Rotate x-axis ticks\n",
        "plt.show()\n"
      ],
      "metadata": {
        "execution": {
          "iopub.status.busy": "2024-09-02T18:00:48.889035Z",
          "iopub.execute_input": "2024-09-02T18:00:48.889553Z",
          "iopub.status.idle": "2024-09-02T18:00:50.358227Z",
          "shell.execute_reply.started": "2024-09-02T18:00:48.889509Z",
          "shell.execute_reply": "2024-09-02T18:00:50.356819Z"
        },
        "trusted": true,
        "id": "qW7Ounriz9Ea"
      },
      "execution_count": null,
      "outputs": []
    },
    {
      "cell_type": "code",
      "source": [
        "from statsmodels.graphics.tsaplots import plot_acf, plot_pacf\n",
        "\n",
        "plt.figure(figsize=(14, 7))\n",
        "plt.subplot(121)\n",
        "plot_acf(df['Building Load (RT)'].dropna(), lags=50, ax=plt.gca())\n",
        "plt.title('ACF of Building Load (RT)', fontsize=16, fontweight='bold')\n",
        "plt.xlabel('Lags', fontsize=14, fontweight='bold', rotation=45)  # Rotate x-axis label\n",
        "plt.ylabel('ACF', fontsize=14, fontweight='bold', rotation=90)  # Rotate y-axis label\n",
        "\n",
        "plt.subplot(122)\n",
        "plot_pacf(df['Building Load (RT)'].dropna(), lags=50, ax=plt.gca())\n",
        "plt.title('PACF of Building Load (RT)', fontsize=16, fontweight='bold')\n",
        "plt.xlabel('Lags', fontsize=14, fontweight='bold', rotation=45)  # Rotate x-axis label\n",
        "plt.ylabel('PACF', fontsize=14, fontweight='bold', rotation=90)  # Rotate y-axis label\n",
        "\n",
        "plt.tight_layout()\n",
        "plt.show()\n"
      ],
      "metadata": {
        "execution": {
          "iopub.status.busy": "2024-09-02T18:01:00.798839Z",
          "iopub.execute_input": "2024-09-02T18:01:00.799923Z",
          "iopub.status.idle": "2024-09-02T18:01:02.318759Z",
          "shell.execute_reply.started": "2024-09-02T18:01:00.799872Z",
          "shell.execute_reply": "2024-09-02T18:01:02.317509Z"
        },
        "trusted": true,
        "id": "JlRirLB3z9Ea"
      },
      "execution_count": null,
      "outputs": []
    },
    {
      "cell_type": "code",
      "source": [
        "rolling_mean = df['Building Load (RT)'].rolling(window=24).mean()\n",
        "rolling_std = df['Building Load (RT)'].rolling(window=24).std()\n",
        "\n",
        "plt.figure(figsize=(14, 7))\n",
        "plt.plot(df.index, df['Building Load (RT)'], label='Building Load (RT)', color='blue')\n",
        "plt.plot(df.index, rolling_mean, label='Rolling Mean (24 hours)', color='orange')\n",
        "plt.plot(df.index, rolling_std, label='Rolling Std Dev (24 hours)', color='green')\n",
        "plt.xlabel('Date', fontsize=14, fontweight='bold', rotation=45)  # Rotate x-axis label\n",
        "plt.ylabel('Building Load (RT)', fontsize=14, fontweight='bold', rotation=90)  # Rotate y-axis label\n",
        "plt.title('Rolling Mean and Standard Deviation of Building Load (RT)', fontsize=16, fontweight='bold')\n",
        "plt.legend()\n",
        "plt.grid(True)\n",
        "plt.xticks(rotation=45)\n",
        "plt.show()"
      ],
      "metadata": {
        "execution": {
          "iopub.status.busy": "2024-09-02T18:01:53.089985Z",
          "iopub.execute_input": "2024-09-02T18:01:53.090469Z",
          "iopub.status.idle": "2024-09-02T18:01:54.794113Z",
          "shell.execute_reply.started": "2024-09-02T18:01:53.090419Z",
          "shell.execute_reply": "2024-09-02T18:01:54.792617Z"
        },
        "trusted": true,
        "id": "yUO_kcfQz9Ea"
      },
      "execution_count": null,
      "outputs": []
    },
    {
      "cell_type": "code",
      "source": [
        "import seaborn as sns\n",
        "\n",
        "heatmap_data = df.pivot_table(index='Day', columns='Hour', values='Building Load (RT)', aggfunc='mean')\n",
        "\n",
        "sns.heatmap(heatmap_data, cmap='coolwarm', annot=True, fmt=\".2f\")\n",
        "plt.title('Heatmap of Building Load (RT) by Hour and Day', fontsize=16, fontweight='bold')\n",
        "plt.xlabel('Hour', fontsize=14, fontweight='bold', rotation=45)  # Rotate x-axis label\n",
        "plt.ylabel('Day', fontsize=14, fontweight='bold', rotation=90)  # Rotate y-axis label\n",
        "plt.xticks(rotation=45)\n",
        "plt.show()\n"
      ],
      "metadata": {
        "execution": {
          "iopub.status.busy": "2024-09-02T18:02:42.248806Z",
          "iopub.execute_input": "2024-09-02T18:02:42.249305Z",
          "iopub.status.idle": "2024-09-02T18:02:48.996917Z",
          "shell.execute_reply.started": "2024-09-02T18:02:42.249262Z",
          "shell.execute_reply": "2024-09-02T18:02:48.994246Z"
        },
        "trusted": true,
        "id": "fZNF1JKJz9Ef"
      },
      "execution_count": null,
      "outputs": []
    },
    {
      "cell_type": "code",
      "source": [
        "# Calculate correlation matrix\n",
        "correlation_matrix = df[['Chilled Water Rate (L/sec)', 'Cooling Water Temperature (C)', 'Building Load (RT)',\n",
        "                         'Chiller Energy Consumption (kWh)', 'Outside Temperature (F)', 'Dew Point (F)',\n",
        "                         'Humidity (%)', 'Wind Speed (mph)', 'Pressure (in)']].corr()\n",
        "\n",
        "sns.heatmap(correlation_matrix, annot=True, cmap='coolwarm', fmt=\".2f\", linewidths=0.5)\n",
        "plt.title('Correlation Heatmap of Features', fontsize=16, fontweight='bold')\n",
        "plt.xlabel('Feature', fontsize=14, fontweight='bold', rotation=45)  # Rotate x-axis label\n",
        "plt.ylabel('Feature', fontsize=14, fontweight='bold', rotation=90)  # Rotate y-axis label\n",
        "plt.xticks(rotation=45)  # Rotate x-axis ticks\n",
        "plt.show()\n"
      ],
      "metadata": {
        "execution": {
          "iopub.status.busy": "2024-09-02T18:03:06.306811Z",
          "iopub.execute_input": "2024-09-02T18:03:06.307335Z",
          "iopub.status.idle": "2024-09-02T18:03:11.131887Z",
          "shell.execute_reply.started": "2024-09-02T18:03:06.307288Z",
          "shell.execute_reply": "2024-09-02T18:03:11.129697Z"
        },
        "trusted": true,
        "id": "UxqtlP8-z9Ef"
      },
      "execution_count": null,
      "outputs": []
    },
    {
      "cell_type": "code",
      "source": [
        "from sklearn.cluster import KMeans\n",
        "from sklearn.preprocessing import StandardScaler\n",
        "from sklearn.metrics import silhouette_score\n",
        "\n",
        "# Prepare data for clustering\n",
        "X = df[['Building Load (RT)']].values\n",
        "scaler = StandardScaler()\n",
        "X_scaled = scaler.fit_transform(X)\n",
        "\n",
        "# Fit KMeans\n",
        "kmeans = KMeans(n_clusters=3, random_state=0)\n",
        "clusters = kmeans.fit_predict(X_scaled)\n",
        "\n",
        "# Add cluster labels to DataFrame\n",
        "df['Cluster'] = clusters\n",
        "\n",
        "# Plot clusters\n",
        "plt.figure(figsize=(14, 7))\n",
        "for cluster in range(3):\n",
        "    cluster_data = df[df['Cluster'] == cluster]\n",
        "    plt.plot(cluster_data.index, cluster_data['Building Load (RT)'], label=f'Cluster {cluster}')\n",
        "\n",
        "plt.xlabel('Date', fontsize=14, fontweight='bold', rotation=45)  # Rotate x-axis label\n",
        "plt.ylabel('Building Load (RT)', fontsize=14, fontweight='bold', rotation=90)  # Rotate y-axis label\n",
        "plt.title('Time Series Clusters of Building Load (RT)', fontsize=16, fontweight='bold')\n",
        "plt.legend()\n",
        "plt.grid(True)\n",
        "plt.xticks(rotation=45)  # Rotate x-axis ticks\n",
        "plt.show()\n"
      ],
      "metadata": {
        "execution": {
          "iopub.status.busy": "2024-09-02T18:08:55.805344Z",
          "iopub.execute_input": "2024-09-02T18:08:55.805924Z",
          "iopub.status.idle": "2024-09-02T18:08:57.680153Z",
          "shell.execute_reply.started": "2024-09-02T18:08:55.805865Z",
          "shell.execute_reply": "2024-09-02T18:08:57.678239Z"
        },
        "trusted": true,
        "id": "_YwEPqIez9Ef"
      },
      "execution_count": null,
      "outputs": []
    },
    {
      "cell_type": "code",
      "source": [
        "from sklearn.ensemble import IsolationForest\n",
        "from scipy.stats import zscore\n",
        "\n",
        "iso_forest = IsolationForest(contamination=0.01, random_state=0)\n",
        "outliers = iso_forest.fit_predict(X_scaled)\n",
        "\n",
        "plt.figure(figsize=(14, 7))\n",
        "plt.plot(df.index, df['Building Load (RT)'], label='Building Load (RT)', color='blue')\n",
        "plt.scatter(df.index[outliers == -1], df['Building Load (RT)'][outliers == -1], color='red', label='Anomalies')\n",
        "plt.xlabel('Date', fontsize=14, fontweight='bold', rotation=45)  # Rotate x-axis label\n",
        "plt.ylabel('Building Load (RT)', fontsize=14, fontweight='bold', rotation=90)  # Rotate y-axis label\n",
        "plt.title('Anomaly Detection in Building Load (RT)', fontsize=16, fontweight='bold')\n",
        "plt.legend()\n",
        "plt.grid(True)\n",
        "plt.xticks(rotation=45)  # Rotate x-axis ticks\n",
        "plt.show()\n"
      ],
      "metadata": {
        "execution": {
          "iopub.status.busy": "2024-09-02T18:09:18.580634Z",
          "iopub.execute_input": "2024-09-02T18:09:18.581202Z",
          "iopub.status.idle": "2024-09-02T18:09:21.022628Z",
          "shell.execute_reply.started": "2024-09-02T18:09:18.581155Z",
          "shell.execute_reply": "2024-09-02T18:09:21.02112Z"
        },
        "trusted": true,
        "id": "pgZ6zdzIz9Ef"
      },
      "execution_count": null,
      "outputs": []
    },
    {
      "cell_type": "code",
      "source": [
        "from statsmodels.tsa.stattools import ccf\n",
        "\n",
        "cross_corr = ccf(df['Building Load (RT)'], df['Chilled Water Rate (L/sec)'])\n",
        "\n",
        "plt.figure(figsize=(14, 7))\n",
        "plt.stem(range(len(cross_corr)), cross_corr, use_line_collection=True)\n",
        "plt.xlabel('Lag', fontsize=14, fontweight='bold')\n",
        "plt.ylabel('Cross-Correlation', fontsize=14, fontweight='bold')\n",
        "plt.title('Cross-Correlation between Building Load (RT) and Chilled Water Rate (L/sec)', fontsize=16, fontweight='bold')\n",
        "plt.grid(True)\n",
        "plt.show()\n"
      ],
      "metadata": {
        "execution": {
          "iopub.status.busy": "2024-09-02T18:09:34.048945Z",
          "iopub.execute_input": "2024-09-02T18:09:34.049454Z",
          "iopub.status.idle": "2024-09-02T18:09:35.906051Z",
          "shell.execute_reply.started": "2024-09-02T18:09:34.049412Z",
          "shell.execute_reply": "2024-09-02T18:09:35.904505Z"
        },
        "trusted": true,
        "id": "VrVT33yjz9Ef"
      },
      "execution_count": null,
      "outputs": []
    },
    {
      "cell_type": "code",
      "source": [],
      "metadata": {
        "id": "7OVAOm6wz9Ef"
      },
      "execution_count": null,
      "outputs": []
    },
    {
      "cell_type": "code",
      "source": [],
      "metadata": {
        "id": "uXhrj1CZz9Ef"
      },
      "execution_count": null,
      "outputs": []
    },
    {
      "cell_type": "code",
      "source": [],
      "metadata": {
        "id": "LB4771Coz9Ef"
      },
      "execution_count": null,
      "outputs": []
    },
    {
      "cell_type": "code",
      "source": [],
      "metadata": {
        "id": "Y1a_HFCyz9Ef"
      },
      "execution_count": null,
      "outputs": []
    },
    {
      "cell_type": "code",
      "source": [
        "import numpy as np\n",
        "import tensorflow as tf\n",
        "from tensorflow.keras.models import Sequential\n",
        "from tensorflow.keras.layers import LSTM, Dense\n",
        "from sklearn.preprocessing import MinMaxScaler\n",
        "\n",
        "scaler = MinMaxScaler()\n",
        "scaled_data = scaler.fit_transform(df[['Building Load (RT)']])\n",
        "\n",
        "def create_sequences(data, seq_length):\n",
        "    xs, ys = [], []\n",
        "    for i in range(len(data) - seq_length):\n",
        "        x = data[i:i+seq_length]\n",
        "        y = data[i+seq_length]\n",
        "        xs.append(x)\n",
        "        ys.append(y)\n",
        "    return np.array(xs), np.array(ys)\n",
        "\n",
        "SEQ_LENGTH = 24\n",
        "X, y = create_sequences(scaled_data, SEQ_LENGTH)\n",
        "\n",
        "split = int(0.8 * len(X))\n",
        "X_train, X_test = X[:split], X[split:]\n",
        "y_train, y_test = y[:split], y[split:]\n",
        "\n",
        "model = Sequential([\n",
        "    LSTM(50, activation='relu', input_shape=(SEQ_LENGTH, 1)),\n",
        "    Dense(1)\n",
        "])\n",
        "\n",
        "model.compile(optimizer='adam', loss='mean_squared_error')\n",
        "\n",
        "model.fit(X_train, y_train, epochs=20, batch_size=32, validation_split=0.1)\n",
        "\n",
        "predictions = model.predict(X_test)\n",
        "predictions = scaler.inverse_transform(predictions)\n",
        "y_test = scaler.inverse_transform(y_test.reshape(-1, 1))\n",
        "\n",
        "plt.figure(figsize=(14, 7))\n",
        "plt.plot(df.index[SEQ_LENGTH + split:], y_test, label='Actual', color='blue')\n",
        "plt.plot(df.index[SEQ_LENGTH + split:], predictions, label='Predicted', color='red')\n",
        "plt.xlabel('Date', fontsize=14, fontweight='bold', rotation=45)  # Rotate x-axis label\n",
        "plt.ylabel('Building Load (RT)', fontsize=14, fontweight='bold', rotation=90)  # Rotate y-axis label\n",
        "plt.title('LSTM Forecast vs Actual', fontsize=16, fontweight='bold')\n",
        "plt.legend()\n",
        "plt.grid(True)\n",
        "plt.xticks(rotation=45)  # Rotate x-axis ticks\n",
        "plt.show()\n"
      ],
      "metadata": {
        "execution": {
          "iopub.status.busy": "2024-09-02T18:03:27.706827Z",
          "iopub.execute_input": "2024-09-02T18:03:27.708255Z",
          "iopub.status.idle": "2024-09-02T18:05:10.643569Z",
          "shell.execute_reply.started": "2024-09-02T18:03:27.708195Z",
          "shell.execute_reply": "2024-09-02T18:05:10.641908Z"
        },
        "trusted": true,
        "id": "q5NbrhyNz9Eg"
      },
      "execution_count": null,
      "outputs": []
    },
    {
      "cell_type": "code",
      "source": [],
      "metadata": {
        "id": "lMryrgGaz9Eg"
      },
      "execution_count": null,
      "outputs": []
    }
  ]
}